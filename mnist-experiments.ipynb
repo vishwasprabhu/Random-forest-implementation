{
 "cells": [
  {
   "cell_type": "markdown",
   "metadata": {},
   "source": [
    "# Neural Networks for MNIST dataset"
   ]
  },
  {
   "cell_type": "code",
   "execution_count": 1,
   "metadata": {
    "ExecuteTime": {
     "end_time": "2022-02-23T04:47:28.538699Z",
     "start_time": "2022-02-23T04:47:26.583105Z"
    }
   },
   "outputs": [
    {
     "data": {
      "text/plain": [
       "array([ 0.  ,  0.  ,  0.  ,  0.  ,  1.52,  0.  ,  2.29,  0.  ,  0.  ,\n",
       "        0.  ,  0.  ,  0.  ,  0.  ,  0.  ,  0.  ,  0.  ,  0.76,  0.76,\n",
       "        0.76,  0.  ,  2.29,  0.  ,  0.  ,  0.  ,  0.  ,  0.  ,  0.  ,\n",
       "        0.  ,  0.  ,  0.  ,  0.  ,  0.  ,  0.  ,  0.  ,  0.  ,  0.  ,\n",
       "        0.  ,  0.  ,  0.  ,  0.  ,  0.  ,  0.  ,  0.  ,  0.  ,  0.  ,\n",
       "        0.  ,  0.  ,  0.  ,  0.  ,  0.  ,  0.  ,  0.  ,  0.  ,  0.  ,\n",
       "        3.85, 19.  , 77.  ])"
      ]
     },
     "execution_count": 1,
     "metadata": {},
     "output_type": "execute_result"
    }
   ],
   "source": [
    "import pandas as pd\n",
    "from boosting_nn import *\n",
    "X, Y = parse_spambase_data(\"data/tiny.spam.train\")\n",
    "X[0]"
   ]
  },
  {
   "cell_type": "code",
   "execution_count": 30,
   "metadata": {
    "ExecuteTime": {
     "end_time": "2022-02-24T02:10:50.447749Z",
     "start_time": "2022-02-24T02:10:50.441072Z"
    }
   },
   "outputs": [],
   "source": [
    "import argparse\n",
    "import torch\n",
    "import torch.nn as nn\n",
    "import torch.nn.functional as F\n",
    "import torch.optim as optim\n",
    "from torchvision import datasets, transforms\n",
    "from torch.utils.data import Dataset\n",
    "import numpy as np"
   ]
  },
  {
   "cell_type": "code",
   "execution_count": 29,
   "metadata": {
    "ExecuteTime": {
     "end_time": "2022-02-24T02:10:48.102937Z",
     "start_time": "2022-02-24T02:10:48.099398Z"
    }
   },
   "outputs": [],
   "source": [
    "from torch.optim.lr_scheduler import StepLR"
   ]
  },
  {
   "cell_type": "code",
   "execution_count": 3,
   "metadata": {
    "ExecuteTime": {
     "end_time": "2022-02-23T04:47:30.198185Z",
     "start_time": "2022-02-23T04:47:29.979772Z"
    }
   },
   "outputs": [],
   "source": [
    "import matplotlib\n",
    "import matplotlib.pyplot as plt\n",
    "%matplotlib inline"
   ]
  },
  {
   "cell_type": "markdown",
   "metadata": {},
   "source": [
    "## Loading MNIST\n",
    "Here we load the dataset and create data loaders."
   ]
  },
  {
   "cell_type": "code",
   "execution_count": 4,
   "metadata": {
    "ExecuteTime": {
     "end_time": "2022-02-23T04:47:30.641119Z",
     "start_time": "2022-02-23T04:47:30.517581Z"
    }
   },
   "outputs": [],
   "source": [
    "train_ds = datasets.MNIST('data', train=True, download=True, \n",
    "                       transform=transforms.Compose([\n",
    "                       transforms.ToTensor(),\n",
    "                       transforms.Normalize((0.1307,), (0.3081,))\n",
    "                   ]))\n",
    "test_ds = datasets.MNIST('data', train=False, download=True, \n",
    "                       transform=transforms.Compose([\n",
    "                       transforms.ToTensor(),\n",
    "                       transforms.Normalize((0.1307,), (0.3081,))\n",
    "                   ]))"
   ]
  },
  {
   "cell_type": "code",
   "execution_count": 5,
   "metadata": {
    "ExecuteTime": {
     "end_time": "2022-02-23T04:47:30.833285Z",
     "start_time": "2022-02-23T04:47:30.824289Z"
    }
   },
   "outputs": [],
   "source": [
    "batch_size = 32\n",
    "#batch_size = 5 # for testing\n",
    "kwargs = {'num_workers': 1, 'pin_memory': True} \n",
    "\n",
    "train_loader = torch.utils.data.DataLoader(train_ds, batch_size=batch_size, shuffle=True, **kwargs)\n",
    "test_loader = torch.utils.data.DataLoader(test_ds, batch_size=batch_size, shuffle=False, **kwargs)"
   ]
  },
  {
   "cell_type": "markdown",
   "metadata": {},
   "source": [
    "## Looking at Examples"
   ]
  },
  {
   "cell_type": "code",
   "execution_count": 6,
   "metadata": {
    "ExecuteTime": {
     "end_time": "2022-02-23T04:47:32.988600Z",
     "start_time": "2022-02-23T04:47:31.620322Z"
    }
   },
   "outputs": [],
   "source": [
    "train_dl = iter(train_loader)\n",
    "x, y = next(train_dl)"
   ]
  },
  {
   "cell_type": "code",
   "execution_count": 7,
   "metadata": {
    "ExecuteTime": {
     "end_time": "2022-02-23T04:47:32.992708Z",
     "start_time": "2022-02-23T04:47:32.990153Z"
    }
   },
   "outputs": [
    {
     "name": "stdout",
     "output_type": "stream",
     "text": [
      "torch.Size([32, 1, 28, 28]) torch.Size([32])\n"
     ]
    }
   ],
   "source": [
    "print(x.shape, y.shape)"
   ]
  },
  {
   "cell_type": "markdown",
   "metadata": {},
   "source": [
    "Looking are images"
   ]
  },
  {
   "cell_type": "code",
   "execution_count": 8,
   "metadata": {
    "ExecuteTime": {
     "end_time": "2022-02-23T04:47:34.636948Z",
     "start_time": "2022-02-23T04:47:34.630429Z"
    }
   },
   "outputs": [],
   "source": [
    "def show(img, title=None):\n",
    "    plt.imshow(img, interpolation='none', cmap=\"gray\")\n",
    "    if title is not None: plt.title(title)"
   ]
  },
  {
   "cell_type": "code",
   "execution_count": 9,
   "metadata": {
    "ExecuteTime": {
     "end_time": "2022-02-23T04:47:34.887455Z",
     "start_time": "2022-02-23T04:47:34.879162Z"
    }
   },
   "outputs": [
    {
     "data": {
      "text/plain": [
       "(32, 1, 28, 28)"
      ]
     },
     "execution_count": 9,
     "metadata": {},
     "output_type": "execute_result"
    }
   ],
   "source": [
    "# first from torch to numpy\n",
    "X = x.numpy(); Y = y.numpy()\n",
    "X.shape"
   ]
  },
  {
   "cell_type": "code",
   "execution_count": 10,
   "metadata": {
    "ExecuteTime": {
     "end_time": "2022-02-23T04:47:35.382274Z",
     "start_time": "2022-02-23T04:47:35.260559Z"
    }
   },
   "outputs": [
    {
     "data": {
      "image/png": "[encoded data removed]",
      "text/plain": [
       "<Figure size 432x288 with 1 Axes>"
      ]
     },
     "metadata": {
      "needs_background": "light"
     },
     "output_type": "display_data"
    }
   ],
   "source": [
    "show(X[0][0], Y[0])"
   ]
  },
  {
   "cell_type": "code",
   "execution_count": 11,
   "metadata": {
    "ExecuteTime": {
     "end_time": "2022-02-23T04:47:35.792982Z",
     "start_time": "2022-02-23T04:47:35.782145Z"
    }
   },
   "outputs": [
    {
     "name": "stdout",
     "output_type": "stream",
     "text": [
      "[[-0.42421296 -0.42421296 -0.42421296 -0.42421296 -0.42421296 -0.42421296\n",
      "  -0.42421296 -0.42421296 -0.42421296 -0.42421296 -0.42421296 -0.42421296\n",
      "  -0.42421296 -0.42421296 -0.42421296 -0.42421296 -0.42421296 -0.42421296\n",
      "  -0.42421296 -0.42421296 -0.42421296 -0.42421296 -0.42421296 -0.42421296\n",
      "  -0.42421296 -0.42421296 -0.42421296 -0.42421296]\n",
      " [-0.42421296 -0.42421296 -0.42421296 -0.42421296 -0.42421296 -0.42421296\n",
      "  -0.42421296 -0.42421296 -0.42421296 -0.42421296 -0.42421296 -0.42421296\n",
      "  -0.42421296 -0.42421296 -0.42421296 -0.42421296 -0.42421296 -0.42421296\n",
      "  -0.42421296 -0.42421296 -0.42421296 -0.42421296 -0.42421296 -0.42421296\n",
      "  -0.42421296 -0.42421296 -0.42421296 -0.42421296]\n",
      " [-0.42421296 -0.42421296 -0.42421296 -0.42421296 -0.42421296 -0.42421296\n",
      "  -0.42421296 -0.42421296 -0.42421296 -0.42421296 -0.42421296 -0.42421296\n",
      "  -0.42421296 -0.42421296 -0.42421296 -0.42421296  0.12310111  2.5032809\n",
      "   1.8795974  -0.15692005 -0.42421296 -0.42421296 -0.42421296 -0.42421296\n",
      "  -0.42421296 -0.42421296 -0.42421296 -0.42421296]\n",
      " [-0.42421296 -0.42421296 -0.42421296 -0.42421296 -0.42421296 -0.42421296\n",
      "  -0.42421296 -0.42421296 -0.42421296 -0.42421296 -0.42421296 -0.42421296\n",
      "  -0.42421296 -0.42421296 -0.42421296  0.46676344  2.7451172   2.8087585\n",
      "   2.7960303   1.0649904  -0.42421296 -0.42421296 -0.42421296 -0.42421296\n",
      "  -0.42421296 -0.42421296 -0.42421296 -0.42421296]]\n"
     ]
    }
   ],
   "source": [
    "print(X[0][0][:4][:4])"
   ]
  },
  {
   "cell_type": "markdown",
   "metadata": {},
   "source": [
    "## Feed Forward Neural Network"
   ]
  },
  {
   "cell_type": "code",
   "execution_count": 12,
   "metadata": {
    "ExecuteTime": {
     "end_time": "2022-02-23T04:47:36.552086Z",
     "start_time": "2022-02-23T04:47:36.543399Z"
    }
   },
   "outputs": [],
   "source": [
    "# for the number of neurons in the hidden unit\n",
    "def get_model(M = 300):\n",
    "    net = nn.Sequential(nn.Linear(28*28, M),\n",
    "                        nn.ReLU(),\n",
    "                        nn.Linear(M, 10))\n",
    "    return net #.cuda()"
   ]
  },
  {
   "cell_type": "code",
   "execution_count": 13,
   "metadata": {
    "ExecuteTime": {
     "end_time": "2022-02-23T04:47:36.954948Z",
     "start_time": "2022-02-23T04:47:36.940972Z"
    }
   },
   "outputs": [],
   "source": [
    "def train_model(train_loader, test_loader, num_epochs, model, optimizer):\n",
    "    model.train()\n",
    "    for epoch in range(num_epochs):\n",
    "        sum_loss = 0.0\n",
    "        total = 0\n",
    "        for i, (images, labels) in enumerate(train_loader):  \n",
    "            batch = images.shape[0] # size of the batch\n",
    "            # Convert torch tensor to Variable, change shape of the input\n",
    "            images = images.view(-1, 28*28) #.cuda()\n",
    "        \n",
    "            # Forward + Backward + Optimize\n",
    "            optimizer.zero_grad()  # zero the gradient buffer\n",
    "            outputs = model(images)\n",
    "            loss = F.cross_entropy(outputs, labels)\n",
    "            loss.backward()\n",
    "            optimizer.step()\n",
    "        \n",
    "            total += batch\n",
    "            sum_loss += batch * loss.item()\n",
    "                \n",
    "        train_loss = sum_loss/total\n",
    "        print('Epoch [%d/%d], Loss: %.4f' %(epoch+1, num_epochs, train_loss))\n",
    "        val_acc, val_loss = model_accuracy_loss(model, test_loader)\n",
    "        print('Epoch [%d/%d], Valid Accuracy: %.4f, Valid Loss: %.4f' %(epoch+1, num_epochs, val_acc, val_loss))\n",
    "        \n",
    "    return val_acc, val_loss, train_loss"
   ]
  },
  {
   "cell_type": "code",
   "execution_count": 14,
   "metadata": {
    "ExecuteTime": {
     "end_time": "2022-02-23T04:47:37.414045Z",
     "start_time": "2022-02-23T04:47:37.405330Z"
    }
   },
   "outputs": [],
   "source": [
    "def model_accuracy_loss(model, test_loader):\n",
    "    model.eval()\n",
    "    correct = 0\n",
    "    sum_loss = 0.0\n",
    "    total = 0\n",
    "    for images, labels in test_loader:\n",
    "        images = images.view(-1, 28*28)  #.cuda()\n",
    "        outputs = model(images)\n",
    "        _, pred = torch.max(outputs.data, 1)\n",
    "        loss = F.cross_entropy(outputs, labels)\n",
    "        sum_loss += labels.size(0)*loss.item()\n",
    "        total += labels.size(0)\n",
    "        correct += pred.eq(labels.data).sum().item()\n",
    "    return 100 * correct / total, sum_loss/ total"
   ]
  },
  {
   "cell_type": "code",
   "execution_count": 15,
   "metadata": {
    "ExecuteTime": {
     "end_time": "2022-02-23T04:47:40.012384Z",
     "start_time": "2022-02-23T04:47:37.976650Z"
    }
   },
   "outputs": [
    {
     "data": {
      "text/plain": [
       "(6.72, 2.342579137420654)"
      ]
     },
     "execution_count": 15,
     "metadata": {},
     "output_type": "execute_result"
    }
   ],
   "source": [
    "net = get_model()\n",
    "learning_rate = 0.01\n",
    "optimizer = optim.Adam(net.parameters(), lr=learning_rate)\n",
    "model_accuracy_loss(net, test_loader)"
   ]
  },
  {
   "cell_type": "code",
   "execution_count": 16,
   "metadata": {
    "ExecuteTime": {
     "end_time": "2022-02-23T04:47:56.281736Z",
     "start_time": "2022-02-23T04:47:40.014786Z"
    }
   },
   "outputs": [
    {
     "name": "stdout",
     "output_type": "stream",
     "text": [
      "Epoch [1/2], Loss: 0.3337\n",
      "Epoch [1/2], Valid Accuracy: 92.3900, Valid Loss: 0.2754\n",
      "Epoch [2/2], Loss: 0.2596\n",
      "Epoch [2/2], Valid Accuracy: 94.0800, Valid Loss: 0.2318\n"
     ]
    }
   ],
   "source": [
    "val_acc, val_loss, train_loss = train_model(train_loader, test_loader, num_epochs=2, model=net, optimizer=optimizer)"
   ]
  },
  {
   "cell_type": "markdown",
   "metadata": {},
   "source": [
    "## Models with L2 regularization\n",
    "To add L2 regularization use the `weight_decay` argument on the optimizer"
   ]
  },
  {
   "cell_type": "code",
   "execution_count": 17,
   "metadata": {
    "ExecuteTime": {
     "end_time": "2022-02-23T04:47:58.423556Z",
     "start_time": "2022-02-23T04:47:58.416754Z"
    }
   },
   "outputs": [],
   "source": [
    "optimizer = optim.Adam(net.parameters(), lr=learning_rate, weight_decay = 0.01)"
   ]
  },
  {
   "cell_type": "markdown",
   "metadata": {},
   "source": [
    "## Models with Dropout"
   ]
  },
  {
   "cell_type": "code",
   "execution_count": 18,
   "metadata": {
    "ExecuteTime": {
     "end_time": "2022-02-23T04:47:58.948300Z",
     "start_time": "2022-02-23T04:47:58.939217Z"
    }
   },
   "outputs": [],
   "source": [
    "def get_model_v2(M = 300, p=0):\n",
    "    modules = []\n",
    "    modules.append(nn.Linear(28*28, M))\n",
    "    modules.append(nn.ReLU())\n",
    "    if p > 0:\n",
    "        modules.append(nn.Dropout(p))\n",
    "    modules.append(nn.Linear(M, 10))\n",
    "    return nn.Sequential(*modules) #.cuda()"
   ]
  },
  {
   "cell_type": "code",
   "execution_count": 19,
   "metadata": {
    "ExecuteTime": {
     "end_time": "2022-02-23T04:47:59.379992Z",
     "start_time": "2022-02-23T04:47:59.367584Z"
    }
   },
   "outputs": [],
   "source": [
    "net = get_model_v2(M = 300, p=0.1)\n",
    "optimizer = optim.Adam(net.parameters(), lr=0.01)"
   ]
  },
  {
   "cell_type": "code",
   "execution_count": 20,
   "metadata": {
    "ExecuteTime": {
     "end_time": "2022-02-23T04:48:33.732362Z",
     "start_time": "2022-02-23T04:48:00.270497Z"
    }
   },
   "outputs": [
    {
     "name": "stdout",
     "output_type": "stream",
     "text": [
      "Epoch [1/4], Loss: 0.4129\n",
      "Epoch [1/4], Valid Accuracy: 91.7700, Valid Loss: 0.3037\n",
      "Epoch [2/4], Loss: 0.2655\n",
      "Epoch [2/4], Valid Accuracy: 92.4300, Valid Loss: 0.2850\n",
      "Epoch [3/4], Loss: 0.2551\n",
      "Epoch [3/4], Valid Accuracy: 93.7700, Valid Loss: 0.2913\n",
      "Epoch [4/4], Loss: 0.2458\n",
      "Epoch [4/4], Valid Accuracy: 94.4700, Valid Loss: 0.2487\n"
     ]
    },
    {
     "data": {
      "text/plain": [
       "(94.47, 0.24871792750116437, 0.24582692833407782)"
      ]
     },
     "execution_count": 20,
     "metadata": {},
     "output_type": "execute_result"
    }
   ],
   "source": [
    "train_model(train_loader, test_loader, num_epochs=4, model=net, optimizer=optimizer)"
   ]
  },
  {
   "cell_type": "code",
   "execution_count": null,
   "metadata": {},
   "outputs": [],
   "source": [
    "\n",
    "\n",
    "\n"
   ]
  },
  {
   "cell_type": "markdown",
   "metadata": {},
   "source": [
    "# 1.Experiment with learning rate"
   ]
  },
  {
   "cell_type": "code",
   "execution_count": 21,
   "metadata": {
    "ExecuteTime": {
     "end_time": "2022-02-22T04:30:00.980109Z",
     "start_time": "2022-02-22T04:21:14.039689Z"
    },
    "collapsed": true
   },
   "outputs": [
    {
     "name": "stdout",
     "output_type": "stream",
     "text": [
      "Epoch [1/10], Loss: 47.4950\n",
      "Epoch [1/10], Valid Accuracy: 11.9600, Valid Loss: 2.4677\n",
      "Epoch [2/10], Loss: 5.6097\n",
      "Epoch [2/10], Valid Accuracy: 10.3300, Valid Loss: 2.4385\n",
      "Epoch [3/10], Loss: 2.4050\n",
      "Epoch [3/10], Valid Accuracy: 9.0000, Valid Loss: 2.4443\n",
      "Epoch [4/10], Loss: 2.4010\n",
      "Epoch [4/10], Valid Accuracy: 9.9000, Valid Loss: 2.5220\n",
      "Epoch [5/10], Loss: 2.4096\n",
      "Epoch [5/10], Valid Accuracy: 11.4300, Valid Loss: 2.4723\n",
      "Epoch [6/10], Loss: 2.4083\n",
      "Epoch [6/10], Valid Accuracy: 9.6600, Valid Loss: 2.4978\n",
      "Epoch [7/10], Loss: 2.4050\n",
      "Epoch [7/10], Valid Accuracy: 10.3500, Valid Loss: 2.4794\n",
      "Epoch [8/10], Loss: 2.4061\n",
      "Epoch [8/10], Valid Accuracy: 9.8800, Valid Loss: 2.4928\n",
      "Epoch [9/10], Loss: 2.4043\n",
      "Epoch [9/10], Valid Accuracy: 9.9000, Valid Loss: 2.6087\n",
      "Epoch [10/10], Loss: 2.4097\n",
      "Epoch [10/10], Valid Accuracy: 9.0000, Valid Loss: 2.4832\n",
      "Epoch [1/10], Loss: 2.6115\n",
      "Epoch [1/10], Valid Accuracy: 13.6500, Valid Loss: 2.2728\n",
      "Epoch [2/10], Loss: 2.2901\n",
      "Epoch [2/10], Valid Accuracy: 10.2100, Valid Loss: 2.3108\n",
      "Epoch [3/10], Loss: 2.2979\n",
      "Epoch [3/10], Valid Accuracy: 11.3500, Valid Loss: 2.3160\n",
      "Epoch [4/10], Loss: 2.3143\n",
      "Epoch [4/10], Valid Accuracy: 10.2800, Valid Loss: 2.3185\n",
      "Epoch [5/10], Loss: 2.3136\n",
      "Epoch [5/10], Valid Accuracy: 9.8000, Valid Loss: 2.3236\n",
      "Epoch [6/10], Loss: 2.3132\n",
      "Epoch [6/10], Valid Accuracy: 11.3500, Valid Loss: 2.3192\n",
      "Epoch [7/10], Loss: 2.3131\n",
      "Epoch [7/10], Valid Accuracy: 9.8000, Valid Loss: 2.3199\n",
      "Epoch [8/10], Loss: 2.3133\n",
      "Epoch [8/10], Valid Accuracy: 10.2800, Valid Loss: 2.3200\n",
      "Epoch [9/10], Loss: 2.3136\n",
      "Epoch [9/10], Valid Accuracy: 9.5800, Valid Loss: 2.3088\n",
      "Epoch [10/10], Loss: 2.3148\n",
      "Epoch [10/10], Valid Accuracy: 11.3500, Valid Loss: 2.3247\n",
      "Epoch [1/10], Loss: 0.3375\n",
      "Epoch [1/10], Valid Accuracy: 93.5800, Valid Loss: 0.2636\n",
      "Epoch [2/10], Loss: 0.2688\n",
      "Epoch [2/10], Valid Accuracy: 93.4100, Valid Loss: 0.2605\n",
      "Epoch [3/10], Loss: 0.2513\n",
      "Epoch [3/10], Valid Accuracy: 94.3500, Valid Loss: 0.2398\n",
      "Epoch [4/10], Loss: 0.2438\n",
      "Epoch [4/10], Valid Accuracy: 94.1000, Valid Loss: 0.2732\n",
      "Epoch [5/10], Loss: 0.2298\n",
      "Epoch [5/10], Valid Accuracy: 93.1000, Valid Loss: 0.2846\n",
      "Epoch [6/10], Loss: 0.2218\n",
      "Epoch [6/10], Valid Accuracy: 93.9000, Valid Loss: 0.2908\n",
      "Epoch [7/10], Loss: 0.2259\n",
      "Epoch [7/10], Valid Accuracy: 93.6900, Valid Loss: 0.2894\n",
      "Epoch [8/10], Loss: 0.2133\n",
      "Epoch [8/10], Valid Accuracy: 94.3900, Valid Loss: 0.2837\n",
      "Epoch [9/10], Loss: 0.2213\n",
      "Epoch [9/10], Valid Accuracy: 93.6400, Valid Loss: 0.3324\n",
      "Epoch [10/10], Loss: 0.2131\n",
      "Epoch [10/10], Valid Accuracy: 94.0200, Valid Loss: 0.3085\n",
      "Epoch [1/10], Loss: 0.2027\n",
      "Epoch [1/10], Valid Accuracy: 96.8000, Valid Loss: 0.1045\n",
      "Epoch [2/10], Loss: 0.0886\n",
      "Epoch [2/10], Valid Accuracy: 97.2300, Valid Loss: 0.0921\n",
      "Epoch [3/10], Loss: 0.0614\n",
      "Epoch [3/10], Valid Accuracy: 97.6900, Valid Loss: 0.0789\n",
      "Epoch [4/10], Loss: 0.0474\n",
      "Epoch [4/10], Valid Accuracy: 97.6900, Valid Loss: 0.0822\n",
      "Epoch [5/10], Loss: 0.0389\n",
      "Epoch [5/10], Valid Accuracy: 97.5300, Valid Loss: 0.0858\n",
      "Epoch [6/10], Loss: 0.0311\n",
      "Epoch [6/10], Valid Accuracy: 97.7000, Valid Loss: 0.0943\n",
      "Epoch [7/10], Loss: 0.0265\n",
      "Epoch [7/10], Valid Accuracy: 97.7000, Valid Loss: 0.0924\n",
      "Epoch [8/10], Loss: 0.0249\n",
      "Epoch [8/10], Valid Accuracy: 97.8300, Valid Loss: 0.0970\n",
      "Epoch [9/10], Loss: 0.0202\n",
      "Epoch [9/10], Valid Accuracy: 97.9500, Valid Loss: 0.1046\n",
      "Epoch [10/10], Loss: 0.0238\n",
      "Epoch [10/10], Valid Accuracy: 97.4800, Valid Loss: 0.1175\n",
      "Epoch [1/10], Loss: 0.4055\n",
      "Epoch [1/10], Valid Accuracy: 93.4900, Valid Loss: 0.2274\n",
      "Epoch [2/10], Loss: 0.2000\n",
      "Epoch [2/10], Valid Accuracy: 95.3200, Valid Loss: 0.1626\n",
      "Epoch [3/10], Loss: 0.1466\n",
      "Epoch [3/10], Valid Accuracy: 96.2300, Valid Loss: 0.1289\n",
      "Epoch [4/10], Loss: 0.1143\n",
      "Epoch [4/10], Valid Accuracy: 96.6900, Valid Loss: 0.1100\n",
      "Epoch [5/10], Loss: 0.0923\n",
      "Epoch [5/10], Valid Accuracy: 97.0900, Valid Loss: 0.0997\n",
      "Epoch [6/10], Loss: 0.0762\n",
      "Epoch [6/10], Valid Accuracy: 97.4100, Valid Loss: 0.0872\n",
      "Epoch [7/10], Loss: 0.0643\n",
      "Epoch [7/10], Valid Accuracy: 97.3500, Valid Loss: 0.0836\n",
      "Epoch [8/10], Loss: 0.0547\n",
      "Epoch [8/10], Valid Accuracy: 97.8500, Valid Loss: 0.0731\n",
      "Epoch [9/10], Loss: 0.0469\n",
      "Epoch [9/10], Valid Accuracy: 97.8200, Valid Loss: 0.0746\n",
      "Epoch [10/10], Loss: 0.0406\n",
      "Epoch [10/10], Valid Accuracy: 97.8900, Valid Loss: 0.0692\n",
      "Epoch [1/10], Loss: 1.1371\n",
      "Epoch [1/10], Valid Accuracy: 87.6600, Valid Loss: 0.5730\n",
      "Epoch [2/10], Loss: 0.4816\n",
      "Epoch [2/10], Valid Accuracy: 90.1600, Valid Loss: 0.3923\n",
      "Epoch [3/10], Loss: 0.3747\n",
      "Epoch [3/10], Valid Accuracy: 91.1100, Valid Loss: 0.3326\n",
      "Epoch [4/10], Loss: 0.3288\n",
      "Epoch [4/10], Valid Accuracy: 91.6600, Valid Loss: 0.3008\n",
      "Epoch [5/10], Loss: 0.3007\n",
      "Epoch [5/10], Valid Accuracy: 92.1800, Valid Loss: 0.2796\n",
      "Epoch [6/10], Loss: 0.2803\n",
      "Epoch [6/10], Valid Accuracy: 92.6800, Valid Loss: 0.2632\n",
      "Epoch [7/10], Loss: 0.2640\n",
      "Epoch [7/10], Valid Accuracy: 93.0000, Valid Loss: 0.2507\n",
      "Epoch [8/10], Loss: 0.2501\n",
      "Epoch [8/10], Valid Accuracy: 93.3400, Valid Loss: 0.2394\n",
      "Epoch [9/10], Loss: 0.2381\n",
      "Epoch [9/10], Valid Accuracy: 93.7200, Valid Loss: 0.2281\n",
      "Epoch [10/10], Loss: 0.2272\n",
      "Epoch [10/10], Valid Accuracy: 93.8300, Valid Loss: 0.2184\n"
     ]
    }
   ],
   "source": [
    "nb_epochs = 10\n",
    "lr_vals = []\n",
    "for learning_rate in [1, 0.1, 0.01, 0.001, 0.0001, 0.00001]:\n",
    "    net = get_model()\n",
    "    optimizer = optim.Adam(net.parameters(), lr=learning_rate)\n",
    "    model_accuracy_loss(net, test_loader)\n",
    "    val_acc, val_loss, train_loss = train_model(train_loader, test_loader, \n",
    "                                                num_epochs=nb_epochs, \n",
    "                                                model=net, optimizer=optimizer)\n",
    "    lr_vals.append([learning_rate, val_acc])"
   ]
  },
  {
   "cell_type": "code",
   "execution_count": 23,
   "metadata": {
    "ExecuteTime": {
     "end_time": "2022-02-22T04:54:40.228767Z",
     "start_time": "2022-02-22T04:54:40.193784Z"
    },
    "scrolled": true
   },
   "outputs": [
    {
     "data": {
      "text/html": [
       "<div>\n",
       "<style scoped>\n",
       "    .dataframe tbody tr th:only-of-type {\n",
       "        vertical-align: middle;\n",
       "    }\n",
       "\n",
       "    .dataframe tbody tr th {\n",
       "        vertical-align: top;\n",
       "    }\n",
       "\n",
       "    .dataframe thead th {\n",
       "        text-align: right;\n",
       "    }\n",
       "</style>\n",
       "<table border=\"1\" class=\"dataframe\">\n",
       "  <thead>\n",
       "    <tr style=\"text-align: right;\">\n",
       "      <th></th>\n",
       "      <th>learning_rate</th>\n",
       "      <th>validation_accuracy</th>\n",
       "    </tr>\n",
       "  </thead>\n",
       "  <tbody>\n",
       "    <tr>\n",
       "      <th>0</th>\n",
       "      <td>1.00000</td>\n",
       "      <td>9.00</td>\n",
       "    </tr>\n",
       "    <tr>\n",
       "      <th>1</th>\n",
       "      <td>0.10000</td>\n",
       "      <td>11.35</td>\n",
       "    </tr>\n",
       "    <tr>\n",
       "      <th>2</th>\n",
       "      <td>0.01000</td>\n",
       "      <td>94.02</td>\n",
       "    </tr>\n",
       "    <tr>\n",
       "      <th>3</th>\n",
       "      <td>0.00100</td>\n",
       "      <td>97.48</td>\n",
       "    </tr>\n",
       "    <tr>\n",
       "      <th>4</th>\n",
       "      <td>0.00010</td>\n",
       "      <td>97.89</td>\n",
       "    </tr>\n",
       "    <tr>\n",
       "      <th>5</th>\n",
       "      <td>0.00001</td>\n",
       "      <td>93.83</td>\n",
       "    </tr>\n",
       "  </tbody>\n",
       "</table>\n",
       "</div>"
      ],
      "text/plain": [
       "   learning_rate  validation_accuracy\n",
       "0        1.00000                 9.00\n",
       "1        0.10000                11.35\n",
       "2        0.01000                94.02\n",
       "3        0.00100                97.48\n",
       "4        0.00010                97.89\n",
       "5        0.00001                93.83"
      ]
     },
     "execution_count": 23,
     "metadata": {},
     "output_type": "execute_result"
    }
   ],
   "source": [
    "df_lr = pd.DataFrame(lr_vals,columns=['learning_rate','validation_accuracy'])\n",
    "df_lr"
   ]
  },
  {
   "cell_type": "markdown",
   "metadata": {},
   "source": [
    "Best learning rate comes in between 0.001 to 0.0001 with validation accuracy of 97.89"
   ]
  },
  {
   "cell_type": "markdown",
   "metadata": {},
   "source": [
    "# 2. Experiment with hidden layer"
   ]
  },
  {
   "cell_type": "code",
   "execution_count": 29,
   "metadata": {
    "ExecuteTime": {
     "end_time": "2022-02-23T03:58:20.685880Z",
     "start_time": "2022-02-23T03:36:49.766874Z"
    },
    "collapsed": true
   },
   "outputs": [
    {
     "name": "stdout",
     "output_type": "stream",
     "text": [
      "Epoch [1/10], Loss: 0.5061\n",
      "Epoch [1/10], Valid Accuracy: 86.8500, Valid Loss: 0.4422\n",
      "Epoch [2/10], Loss: 0.4120\n",
      "Epoch [2/10], Valid Accuracy: 85.7100, Valid Loss: 0.4792\n",
      "Epoch [3/10], Loss: 0.3970\n",
      "Epoch [3/10], Valid Accuracy: 88.3500, Valid Loss: 0.4151\n",
      "Epoch [4/10], Loss: 0.3949\n",
      "Epoch [4/10], Valid Accuracy: 87.1500, Valid Loss: 0.4450\n",
      "Epoch [5/10], Loss: 0.3875\n",
      "Epoch [5/10], Valid Accuracy: 89.3800, Valid Loss: 0.3909\n",
      "Epoch [6/10], Loss: 0.3852\n",
      "Epoch [6/10], Valid Accuracy: 87.5400, Valid Loss: 0.4306\n",
      "Epoch [7/10], Loss: 0.3839\n",
      "Epoch [7/10], Valid Accuracy: 89.2700, Valid Loss: 0.3870\n",
      "Epoch [8/10], Loss: 0.3874\n",
      "Epoch [8/10], Valid Accuracy: 89.2100, Valid Loss: 0.3829\n",
      "Epoch [9/10], Loss: 0.3836\n",
      "Epoch [9/10], Valid Accuracy: 87.2500, Valid Loss: 0.4423\n",
      "Epoch [10/10], Loss: 0.3795\n",
      "Epoch [10/10], Valid Accuracy: 86.1000, Valid Loss: 0.4862\n",
      "Epoch [1/10], Loss: 0.3375\n",
      "Epoch [1/10], Valid Accuracy: 93.1400, Valid Loss: 0.2553\n",
      "Epoch [2/10], Loss: 0.2699\n",
      "Epoch [2/10], Valid Accuracy: 93.3000, Valid Loss: 0.2527\n",
      "Epoch [3/10], Loss: 0.2573\n",
      "Epoch [3/10], Valid Accuracy: 93.3400, Valid Loss: 0.2484\n",
      "Epoch [4/10], Loss: 0.2436\n",
      "Epoch [4/10], Valid Accuracy: 92.8700, Valid Loss: 0.2869\n",
      "Epoch [5/10], Loss: 0.2398\n",
      "Epoch [5/10], Valid Accuracy: 93.7300, Valid Loss: 0.2583\n",
      "Epoch [6/10], Loss: 0.2407\n",
      "Epoch [6/10], Valid Accuracy: 93.4800, Valid Loss: 0.2654\n",
      "Epoch [7/10], Loss: 0.2365\n",
      "Epoch [7/10], Valid Accuracy: 93.5000, Valid Loss: 0.2791\n",
      "Epoch [8/10], Loss: 0.2358\n",
      "Epoch [8/10], Valid Accuracy: 92.1500, Valid Loss: 0.3105\n",
      "Epoch [9/10], Loss: 0.2339\n",
      "Epoch [9/10], Valid Accuracy: 93.7600, Valid Loss: 0.2976\n",
      "Epoch [10/10], Loss: 0.2345\n",
      "Epoch [10/10], Valid Accuracy: 94.0200, Valid Loss: 0.2650\n",
      "Epoch [1/10], Loss: 0.3517\n",
      "Epoch [1/10], Valid Accuracy: 92.2800, Valid Loss: 0.3059\n",
      "Epoch [2/10], Loss: 0.2757\n",
      "Epoch [2/10], Valid Accuracy: 92.9700, Valid Loss: 0.2811\n",
      "Epoch [3/10], Loss: 0.2592\n",
      "Epoch [3/10], Valid Accuracy: 93.1500, Valid Loss: 0.2971\n",
      "Epoch [4/10], Loss: 0.2555\n",
      "Epoch [4/10], Valid Accuracy: 93.6700, Valid Loss: 0.3196\n",
      "Epoch [5/10], Loss: 0.2491\n",
      "Epoch [5/10], Valid Accuracy: 93.1400, Valid Loss: 0.3085\n",
      "Epoch [6/10], Loss: 0.2380\n",
      "Epoch [6/10], Valid Accuracy: 93.5100, Valid Loss: 0.3486\n",
      "Epoch [7/10], Loss: 0.2352\n",
      "Epoch [7/10], Valid Accuracy: 91.2400, Valid Loss: 0.4648\n",
      "Epoch [8/10], Loss: 0.2366\n",
      "Epoch [8/10], Valid Accuracy: 93.9000, Valid Loss: 0.3262\n",
      "Epoch [9/10], Loss: 0.2342\n",
      "Epoch [9/10], Valid Accuracy: 92.2500, Valid Loss: 0.3549\n",
      "Epoch [10/10], Loss: 0.2283\n",
      "Epoch [10/10], Valid Accuracy: 93.6900, Valid Loss: 0.3305\n",
      "Epoch [1/10], Loss: 0.3406\n",
      "Epoch [1/10], Valid Accuracy: 92.5200, Valid Loss: 0.2714\n",
      "Epoch [2/10], Loss: 0.2644\n",
      "Epoch [2/10], Valid Accuracy: 92.8500, Valid Loss: 0.3223\n",
      "Epoch [3/10], Loss: 0.2573\n",
      "Epoch [3/10], Valid Accuracy: 94.1600, Valid Loss: 0.2787\n",
      "Epoch [4/10], Loss: 0.2374\n",
      "Epoch [4/10], Valid Accuracy: 94.2700, Valid Loss: 0.2517\n",
      "Epoch [5/10], Loss: 0.2300\n",
      "Epoch [5/10], Valid Accuracy: 93.4700, Valid Loss: 0.2993\n",
      "Epoch [6/10], Loss: 0.2315\n",
      "Epoch [6/10], Valid Accuracy: 94.4200, Valid Loss: 0.2930\n",
      "Epoch [7/10], Loss: 0.2215\n",
      "Epoch [7/10], Valid Accuracy: 94.0900, Valid Loss: 0.2870\n",
      "Epoch [8/10], Loss: 0.2103\n",
      "Epoch [8/10], Valid Accuracy: 93.9100, Valid Loss: 0.3303\n",
      "Epoch [9/10], Loss: 0.2184\n",
      "Epoch [9/10], Valid Accuracy: 94.5800, Valid Loss: 0.3280\n",
      "Epoch [10/10], Loss: 0.2141\n",
      "Epoch [10/10], Valid Accuracy: 94.3200, Valid Loss: 0.3321\n",
      "Epoch [1/10], Loss: 0.3739\n",
      "Epoch [1/10], Valid Accuracy: 93.1600, Valid Loss: 0.2597\n",
      "Epoch [2/10], Loss: 0.2848\n",
      "Epoch [2/10], Valid Accuracy: 91.3700, Valid Loss: 0.3798\n",
      "Epoch [3/10], Loss: 0.2634\n",
      "Epoch [3/10], Valid Accuracy: 94.7400, Valid Loss: 0.2470\n",
      "Epoch [4/10], Loss: 0.2567\n",
      "Epoch [4/10], Valid Accuracy: 94.4200, Valid Loss: 0.2453\n",
      "Epoch [5/10], Loss: 0.2427\n",
      "Epoch [5/10], Valid Accuracy: 93.5100, Valid Loss: 0.2810\n",
      "Epoch [6/10], Loss: 0.2428\n",
      "Epoch [6/10], Valid Accuracy: 93.9000, Valid Loss: 0.2980\n",
      "Epoch [7/10], Loss: 0.2326\n",
      "Epoch [7/10], Valid Accuracy: 94.5500, Valid Loss: 0.2867\n",
      "Epoch [8/10], Loss: 0.2290\n",
      "Epoch [8/10], Valid Accuracy: 94.2400, Valid Loss: 0.3243\n",
      "Epoch [9/10], Loss: 0.2185\n",
      "Epoch [9/10], Valid Accuracy: 94.3400, Valid Loss: 0.3346\n",
      "Epoch [10/10], Loss: 0.2127\n",
      "Epoch [10/10], Valid Accuracy: 93.9400, Valid Loss: 0.3331\n",
      "Epoch [1/10], Loss: 0.3747\n",
      "Epoch [1/10], Valid Accuracy: 93.5400, Valid Loss: 0.2613\n",
      "Epoch [2/10], Loss: 0.2742\n",
      "Epoch [2/10], Valid Accuracy: 92.9900, Valid Loss: 0.3030\n",
      "Epoch [3/10], Loss: 0.2612\n",
      "Epoch [3/10], Valid Accuracy: 94.3000, Valid Loss: 0.2380\n",
      "Epoch [4/10], Loss: 0.2429\n",
      "Epoch [4/10], Valid Accuracy: 93.5700, Valid Loss: 0.2880\n",
      "Epoch [5/10], Loss: 0.2360\n",
      "Epoch [5/10], Valid Accuracy: 94.1000, Valid Loss: 0.2688\n",
      "Epoch [6/10], Loss: 0.2323\n",
      "Epoch [6/10], Valid Accuracy: 93.4300, Valid Loss: 0.3668\n",
      "Epoch [7/10], Loss: 0.2201\n",
      "Epoch [7/10], Valid Accuracy: 94.2600, Valid Loss: 0.3207\n",
      "Epoch [8/10], Loss: 0.2209\n",
      "Epoch [8/10], Valid Accuracy: 94.0100, Valid Loss: 0.3006\n",
      "Epoch [9/10], Loss: 0.2148\n",
      "Epoch [9/10], Valid Accuracy: 93.0000, Valid Loss: 0.3510\n",
      "Epoch [10/10], Loss: 0.2201\n",
      "Epoch [10/10], Valid Accuracy: 94.7300, Valid Loss: 0.3030\n",
      "Epoch [1/10], Loss: 0.3719\n",
      "Epoch [1/10], Valid Accuracy: 93.2300, Valid Loss: 0.2604\n",
      "Epoch [2/10], Loss: 0.2698\n",
      "Epoch [2/10], Valid Accuracy: 93.6800, Valid Loss: 0.2816\n",
      "Epoch [3/10], Loss: 0.2592\n",
      "Epoch [3/10], Valid Accuracy: 93.4000, Valid Loss: 0.2761\n",
      "Epoch [4/10], Loss: 0.2431\n",
      "Epoch [4/10], Valid Accuracy: 93.2600, Valid Loss: 0.3245\n",
      "Epoch [5/10], Loss: 0.2393\n",
      "Epoch [5/10], Valid Accuracy: 94.4000, Valid Loss: 0.2553\n",
      "Epoch [6/10], Loss: 0.2267\n",
      "Epoch [6/10], Valid Accuracy: 94.1800, Valid Loss: 0.2848\n",
      "Epoch [7/10], Loss: 0.2298\n",
      "Epoch [7/10], Valid Accuracy: 92.8300, Valid Loss: 0.3512\n",
      "Epoch [8/10], Loss: 0.2281\n",
      "Epoch [8/10], Valid Accuracy: 93.9900, Valid Loss: 0.3428\n",
      "Epoch [9/10], Loss: 0.2181\n",
      "Epoch [9/10], Valid Accuracy: 94.1300, Valid Loss: 0.3425\n",
      "Epoch [10/10], Loss: 0.2188\n",
      "Epoch [10/10], Valid Accuracy: 93.6400, Valid Loss: 0.3074\n",
      "Epoch [1/10], Loss: 0.4082\n",
      "Epoch [1/10], Valid Accuracy: 93.4100, Valid Loss: 0.2682\n",
      "Epoch [2/10], Loss: 0.2814\n",
      "Epoch [2/10], Valid Accuracy: 93.5100, Valid Loss: 0.2691\n",
      "Epoch [3/10], Loss: 0.2594\n",
      "Epoch [3/10], Valid Accuracy: 93.6400, Valid Loss: 0.2759\n",
      "Epoch [4/10], Loss: 0.2366\n",
      "Epoch [4/10], Valid Accuracy: 94.7900, Valid Loss: 0.2449\n",
      "Epoch [5/10], Loss: 0.2318\n",
      "Epoch [5/10], Valid Accuracy: 94.1600, Valid Loss: 0.2979\n",
      "Epoch [6/10], Loss: 0.2263\n",
      "Epoch [6/10], Valid Accuracy: 93.6000, Valid Loss: 0.2671\n",
      "Epoch [7/10], Loss: 0.2202\n",
      "Epoch [7/10], Valid Accuracy: 92.9600, Valid Loss: 0.3742\n",
      "Epoch [8/10], Loss: 0.2269\n",
      "Epoch [8/10], Valid Accuracy: 94.4100, Valid Loss: 0.3469\n",
      "Epoch [9/10], Loss: 0.2146\n",
      "Epoch [9/10], Valid Accuracy: 94.2200, Valid Loss: 0.3163\n",
      "Epoch [10/10], Loss: 0.2016\n",
      "Epoch [10/10], Valid Accuracy: 94.6700, Valid Loss: 0.2800\n",
      "Epoch [1/10], Loss: 0.3891\n",
      "Epoch [1/10], Valid Accuracy: 92.8900, Valid Loss: 0.2970\n",
      "Epoch [2/10], Loss: 0.2829\n",
      "Epoch [2/10], Valid Accuracy: 93.2300, Valid Loss: 0.3116\n",
      "Epoch [3/10], Loss: 0.2566\n",
      "Epoch [3/10], Valid Accuracy: 93.5400, Valid Loss: 0.3086\n",
      "Epoch [4/10], Loss: 0.2564\n",
      "Epoch [4/10], Valid Accuracy: 93.4500, Valid Loss: 0.2969\n",
      "Epoch [5/10], Loss: 0.2436\n",
      "Epoch [5/10], Valid Accuracy: 93.0200, Valid Loss: 0.3285\n",
      "Epoch [6/10], Loss: 0.2373\n",
      "Epoch [6/10], Valid Accuracy: 93.8500, Valid Loss: 0.3006\n",
      "Epoch [7/10], Loss: 0.2295\n",
      "Epoch [7/10], Valid Accuracy: 93.2700, Valid Loss: 0.3350\n",
      "Epoch [8/10], Loss: 0.2184\n",
      "Epoch [8/10], Valid Accuracy: 94.5300, Valid Loss: 0.2805\n",
      "Epoch [9/10], Loss: 0.2189\n",
      "Epoch [9/10], Valid Accuracy: 94.4500, Valid Loss: 0.2870\n",
      "Epoch [10/10], Loss: 0.2215\n",
      "Epoch [10/10], Valid Accuracy: 94.4700, Valid Loss: 0.3409\n"
     ]
    }
   ],
   "source": [
    "nb_epochs = 10\n",
    "learning_rate = 0.01\n",
    "hidden_vals = []\n",
    "for hidden_layer in [10, 50, 100, 300, 1000, 1200,1500, 1800, 2000]:\n",
    "    net = get_model(hidden_layer)\n",
    "    optimizer = optim.Adam(net.parameters(), lr=learning_rate)\n",
    "    model_accuracy_loss(net, test_loader)\n",
    "    val_acc, val_loss, train_loss = train_model(train_loader, test_loader, \n",
    "                                                num_epochs=nb_epochs, \n",
    "                                                model=net, optimizer=optimizer)\n",
    "    hidden_vals.append([hidden_layer, train_loss, val_acc])"
   ]
  },
  {
   "cell_type": "code",
   "execution_count": 30,
   "metadata": {
    "ExecuteTime": {
     "end_time": "2022-02-23T03:59:24.764915Z",
     "start_time": "2022-02-23T03:59:24.710069Z"
    }
   },
   "outputs": [
    {
     "data": {
      "text/html": [
       "<div>\n",
       "<style scoped>\n",
       "    .dataframe tbody tr th:only-of-type {\n",
       "        vertical-align: middle;\n",
       "    }\n",
       "\n",
       "    .dataframe tbody tr th {\n",
       "        vertical-align: top;\n",
       "    }\n",
       "\n",
       "    .dataframe thead th {\n",
       "        text-align: right;\n",
       "    }\n",
       "</style>\n",
       "<table border=\"1\" class=\"dataframe\">\n",
       "  <thead>\n",
       "    <tr style=\"text-align: right;\">\n",
       "      <th></th>\n",
       "      <th>hidden_layer</th>\n",
       "      <th>train_loss</th>\n",
       "      <th>val_acc</th>\n",
       "    </tr>\n",
       "  </thead>\n",
       "  <tbody>\n",
       "    <tr>\n",
       "      <th>0</th>\n",
       "      <td>10</td>\n",
       "      <td>0.379495</td>\n",
       "      <td>86.10</td>\n",
       "    </tr>\n",
       "    <tr>\n",
       "      <th>1</th>\n",
       "      <td>50</td>\n",
       "      <td>0.234484</td>\n",
       "      <td>94.02</td>\n",
       "    </tr>\n",
       "    <tr>\n",
       "      <th>2</th>\n",
       "      <td>100</td>\n",
       "      <td>0.228299</td>\n",
       "      <td>93.69</td>\n",
       "    </tr>\n",
       "    <tr>\n",
       "      <th>3</th>\n",
       "      <td>300</td>\n",
       "      <td>0.214108</td>\n",
       "      <td>94.32</td>\n",
       "    </tr>\n",
       "    <tr>\n",
       "      <th>4</th>\n",
       "      <td>1000</td>\n",
       "      <td>0.212705</td>\n",
       "      <td>93.94</td>\n",
       "    </tr>\n",
       "    <tr>\n",
       "      <th>5</th>\n",
       "      <td>1200</td>\n",
       "      <td>0.220094</td>\n",
       "      <td>94.73</td>\n",
       "    </tr>\n",
       "    <tr>\n",
       "      <th>6</th>\n",
       "      <td>1500</td>\n",
       "      <td>0.218760</td>\n",
       "      <td>93.64</td>\n",
       "    </tr>\n",
       "    <tr>\n",
       "      <th>7</th>\n",
       "      <td>1800</td>\n",
       "      <td>0.201601</td>\n",
       "      <td>94.67</td>\n",
       "    </tr>\n",
       "    <tr>\n",
       "      <th>8</th>\n",
       "      <td>2000</td>\n",
       "      <td>0.221524</td>\n",
       "      <td>94.47</td>\n",
       "    </tr>\n",
       "  </tbody>\n",
       "</table>\n",
       "</div>"
      ],
      "text/plain": [
       "   hidden_layer  train_loss  val_acc\n",
       "0            10    0.379495    86.10\n",
       "1            50    0.234484    94.02\n",
       "2           100    0.228299    93.69\n",
       "3           300    0.214108    94.32\n",
       "4          1000    0.212705    93.94\n",
       "5          1200    0.220094    94.73\n",
       "6          1500    0.218760    93.64\n",
       "7          1800    0.201601    94.67\n",
       "8          2000    0.221524    94.47"
      ]
     },
     "execution_count": 30,
     "metadata": {},
     "output_type": "execute_result"
    }
   ],
   "source": [
    "df_hidden = pd.DataFrame(hidden_vals,columns=['hidden_layer','train_loss','val_acc'])\n",
    "df_hidden"
   ]
  },
  {
   "cell_type": "markdown",
   "metadata": {},
   "source": [
    "Best size for hidden layer comes in between 1000 and 1200 at around 94.7% validation accuracy. Train loss is less for some models but validation accuracy is higher. Hence some of these models overfit."
   ]
  },
  {
   "cell_type": "markdown",
   "metadata": {},
   "source": [
    "# 3. Experiment with weight decay"
   ]
  },
  {
   "cell_type": "code",
   "execution_count": 21,
   "metadata": {
    "ExecuteTime": {
     "end_time": "2022-02-23T05:06:32.420029Z",
     "start_time": "2022-02-23T04:49:30.912407Z"
    },
    "collapsed": true
   },
   "outputs": [
    {
     "name": "stdout",
     "output_type": "stream",
     "text": [
      "Epoch [1/20], Loss: 0.2029\n",
      "Epoch [1/20], Valid Accuracy: 96.4100, Valid Loss: 0.1131\n",
      "Epoch [2/20], Loss: 0.0872\n",
      "Epoch [2/20], Valid Accuracy: 97.3800, Valid Loss: 0.0829\n",
      "Epoch [3/20], Loss: 0.0624\n",
      "Epoch [3/20], Valid Accuracy: 97.4400, Valid Loss: 0.0818\n",
      "Epoch [4/20], Loss: 0.0485\n",
      "Epoch [4/20], Valid Accuracy: 97.5300, Valid Loss: 0.0864\n",
      "Epoch [5/20], Loss: 0.0386\n",
      "Epoch [5/20], Valid Accuracy: 97.8400, Valid Loss: 0.0767\n",
      "Epoch [6/20], Loss: 0.0323\n",
      "Epoch [6/20], Valid Accuracy: 97.7000, Valid Loss: 0.0959\n",
      "Epoch [7/20], Loss: 0.0290\n",
      "Epoch [7/20], Valid Accuracy: 97.8900, Valid Loss: 0.0798\n",
      "Epoch [8/20], Loss: 0.0246\n",
      "Epoch [8/20], Valid Accuracy: 97.7200, Valid Loss: 0.0912\n",
      "Epoch [9/20], Loss: 0.0214\n",
      "Epoch [9/20], Valid Accuracy: 97.5200, Valid Loss: 0.1175\n",
      "Epoch [10/20], Loss: 0.0185\n",
      "Epoch [10/20], Valid Accuracy: 97.7200, Valid Loss: 0.1181\n",
      "Epoch [11/20], Loss: 0.0199\n",
      "Epoch [11/20], Valid Accuracy: 97.8100, Valid Loss: 0.1093\n",
      "Epoch [12/20], Loss: 0.0182\n",
      "Epoch [12/20], Valid Accuracy: 97.8500, Valid Loss: 0.1163\n",
      "Epoch [13/20], Loss: 0.0163\n",
      "Epoch [13/20], Valid Accuracy: 97.9700, Valid Loss: 0.1184\n",
      "Epoch [14/20], Loss: 0.0162\n",
      "Epoch [14/20], Valid Accuracy: 97.9700, Valid Loss: 0.1212\n",
      "Epoch [15/20], Loss: 0.0146\n",
      "Epoch [15/20], Valid Accuracy: 97.8300, Valid Loss: 0.1210\n",
      "Epoch [16/20], Loss: 0.0166\n",
      "Epoch [16/20], Valid Accuracy: 97.5300, Valid Loss: 0.1427\n",
      "Epoch [17/20], Loss: 0.0164\n",
      "Epoch [17/20], Valid Accuracy: 97.8100, Valid Loss: 0.1403\n",
      "Epoch [18/20], Loss: 0.0151\n",
      "Epoch [18/20], Valid Accuracy: 97.4600, Valid Loss: 0.1686\n",
      "Epoch [19/20], Loss: 0.0118\n",
      "Epoch [19/20], Valid Accuracy: 97.7200, Valid Loss: 0.1679\n",
      "Epoch [20/20], Loss: 0.0139\n",
      "Epoch [20/20], Valid Accuracy: 97.9300, Valid Loss: 0.1575\n",
      "Epoch [1/20], Loss: 0.2021\n",
      "Epoch [1/20], Valid Accuracy: 96.3400, Valid Loss: 0.1178\n",
      "Epoch [2/20], Loss: 0.0922\n",
      "Epoch [2/20], Valid Accuracy: 96.8800, Valid Loss: 0.1007\n",
      "Epoch [3/20], Loss: 0.0667\n",
      "Epoch [3/20], Valid Accuracy: 97.4200, Valid Loss: 0.0838\n",
      "Epoch [4/20], Loss: 0.0562\n",
      "Epoch [4/20], Valid Accuracy: 97.7000, Valid Loss: 0.0857\n",
      "Epoch [5/20], Loss: 0.0466\n",
      "Epoch [5/20], Valid Accuracy: 97.4300, Valid Loss: 0.0932\n",
      "Epoch [6/20], Loss: 0.0422\n",
      "Epoch [6/20], Valid Accuracy: 97.6600, Valid Loss: 0.0899\n",
      "Epoch [7/20], Loss: 0.0378\n",
      "Epoch [7/20], Valid Accuracy: 97.5800, Valid Loss: 0.0857\n",
      "Epoch [8/20], Loss: 0.0340\n",
      "Epoch [8/20], Valid Accuracy: 97.8600, Valid Loss: 0.0793\n",
      "Epoch [9/20], Loss: 0.0318\n",
      "Epoch [9/20], Valid Accuracy: 97.5000, Valid Loss: 0.0887\n",
      "Epoch [10/20], Loss: 0.0311\n",
      "Epoch [10/20], Valid Accuracy: 97.5400, Valid Loss: 0.0964\n",
      "Epoch [11/20], Loss: 0.0310\n",
      "Epoch [11/20], Valid Accuracy: 97.8800, Valid Loss: 0.0779\n",
      "Epoch [12/20], Loss: 0.0271\n",
      "Epoch [12/20], Valid Accuracy: 97.6100, Valid Loss: 0.0956\n",
      "Epoch [13/20], Loss: 0.0294\n",
      "Epoch [13/20], Valid Accuracy: 97.7200, Valid Loss: 0.0933\n",
      "Epoch [14/20], Loss: 0.0242\n",
      "Epoch [14/20], Valid Accuracy: 97.7600, Valid Loss: 0.0934\n",
      "Epoch [15/20], Loss: 0.0263\n",
      "Epoch [15/20], Valid Accuracy: 97.3100, Valid Loss: 0.1054\n",
      "Epoch [16/20], Loss: 0.0248\n",
      "Epoch [16/20], Valid Accuracy: 97.5100, Valid Loss: 0.1018\n",
      "Epoch [17/20], Loss: 0.0233\n",
      "Epoch [17/20], Valid Accuracy: 97.7200, Valid Loss: 0.0911\n",
      "Epoch [18/20], Loss: 0.0247\n",
      "Epoch [18/20], Valid Accuracy: 97.7800, Valid Loss: 0.0841\n",
      "Epoch [19/20], Loss: 0.0229\n",
      "Epoch [19/20], Valid Accuracy: 97.9600, Valid Loss: 0.0852\n",
      "Epoch [20/20], Loss: 0.0235\n",
      "Epoch [20/20], Valid Accuracy: 97.9300, Valid Loss: 0.0878\n",
      "Epoch [1/20], Loss: 0.2111\n",
      "Epoch [1/20], Valid Accuracy: 95.9300, Valid Loss: 0.1309\n",
      "Epoch [2/20], Loss: 0.1097\n",
      "Epoch [2/20], Valid Accuracy: 97.0600, Valid Loss: 0.0951\n",
      "Epoch [3/20], Loss: 0.0937\n",
      "Epoch [3/20], Valid Accuracy: 97.0200, Valid Loss: 0.0941\n",
      "Epoch [4/20], Loss: 0.0858\n",
      "Epoch [4/20], Valid Accuracy: 97.3200, Valid Loss: 0.0843\n",
      "Epoch [5/20], Loss: 0.0805\n",
      "Epoch [5/20], Valid Accuracy: 97.6400, Valid Loss: 0.0804\n",
      "Epoch [6/20], Loss: 0.0752\n",
      "Epoch [6/20], Valid Accuracy: 97.9500, Valid Loss: 0.0695\n",
      "Epoch [7/20], Loss: 0.0731\n",
      "Epoch [7/20], Valid Accuracy: 97.6600, Valid Loss: 0.0803\n",
      "Epoch [8/20], Loss: 0.0708\n",
      "Epoch [8/20], Valid Accuracy: 97.1900, Valid Loss: 0.0893\n",
      "Epoch [9/20], Loss: 0.0690\n",
      "Epoch [9/20], Valid Accuracy: 97.3000, Valid Loss: 0.0847\n",
      "Epoch [10/20], Loss: 0.0689\n",
      "Epoch [10/20], Valid Accuracy: 97.3200, Valid Loss: 0.0815\n",
      "Epoch [11/20], Loss: 0.0660\n",
      "Epoch [11/20], Valid Accuracy: 97.4300, Valid Loss: 0.0844\n",
      "Epoch [12/20], Loss: 0.0687\n",
      "Epoch [12/20], Valid Accuracy: 97.1100, Valid Loss: 0.0970\n",
      "Epoch [13/20], Loss: 0.0662\n",
      "Epoch [13/20], Valid Accuracy: 97.1800, Valid Loss: 0.0869\n",
      "Epoch [14/20], Loss: 0.0657\n",
      "Epoch [14/20], Valid Accuracy: 97.0600, Valid Loss: 0.0897\n",
      "Epoch [15/20], Loss: 0.0643\n",
      "Epoch [15/20], Valid Accuracy: 97.5300, Valid Loss: 0.0832\n",
      "Epoch [16/20], Loss: 0.0654\n",
      "Epoch [16/20], Valid Accuracy: 97.6100, Valid Loss: 0.0803\n",
      "Epoch [17/20], Loss: 0.0643\n",
      "Epoch [17/20], Valid Accuracy: 97.3800, Valid Loss: 0.0866\n",
      "Epoch [18/20], Loss: 0.0651\n",
      "Epoch [18/20], Valid Accuracy: 97.5400, Valid Loss: 0.0783\n",
      "Epoch [19/20], Loss: 0.0628\n",
      "Epoch [19/20], Valid Accuracy: 97.7400, Valid Loss: 0.0708\n",
      "Epoch [20/20], Loss: 0.0633\n",
      "Epoch [20/20], Valid Accuracy: 97.2200, Valid Loss: 0.0883\n",
      "Epoch [1/20], Loss: 0.2711\n",
      "Epoch [1/20], Valid Accuracy: 94.8800, Valid Loss: 0.1808\n",
      "Epoch [2/20], Loss: 0.2000\n",
      "Epoch [2/20], Valid Accuracy: 95.0100, Valid Loss: 0.1793\n",
      "Epoch [3/20], Loss: 0.1860\n",
      "Epoch [3/20], Valid Accuracy: 95.6000, Valid Loss: 0.1594\n",
      "Epoch [4/20], Loss: 0.1791\n",
      "Epoch [4/20], Valid Accuracy: 95.3100, Valid Loss: 0.1684\n",
      "Epoch [5/20], Loss: 0.1740\n",
      "Epoch [5/20], Valid Accuracy: 95.4300, Valid Loss: 0.1655\n",
      "Epoch [6/20], Loss: 0.1715\n",
      "Epoch [6/20], Valid Accuracy: 95.7300, Valid Loss: 0.1538\n",
      "Epoch [7/20], Loss: 0.1699\n",
      "Epoch [7/20], Valid Accuracy: 95.2200, Valid Loss: 0.1663\n",
      "Epoch [8/20], Loss: 0.1694\n",
      "Epoch [8/20], Valid Accuracy: 95.8100, Valid Loss: 0.1599\n",
      "Epoch [9/20], Loss: 0.1678\n",
      "Epoch [9/20], Valid Accuracy: 95.4400, Valid Loss: 0.1655\n",
      "Epoch [10/20], Loss: 0.1678\n",
      "Epoch [10/20], Valid Accuracy: 95.3700, Valid Loss: 0.1592\n",
      "Epoch [11/20], Loss: 0.1661\n",
      "Epoch [11/20], Valid Accuracy: 95.9800, Valid Loss: 0.1513\n",
      "Epoch [12/20], Loss: 0.1662\n",
      "Epoch [12/20], Valid Accuracy: 95.7200, Valid Loss: 0.1620\n",
      "Epoch [13/20], Loss: 0.1654\n",
      "Epoch [13/20], Valid Accuracy: 95.3200, Valid Loss: 0.1634\n",
      "Epoch [14/20], Loss: 0.1658\n",
      "Epoch [14/20], Valid Accuracy: 94.9500, Valid Loss: 0.1770\n",
      "Epoch [15/20], Loss: 0.1653\n",
      "Epoch [15/20], Valid Accuracy: 95.7100, Valid Loss: 0.1563\n",
      "Epoch [16/20], Loss: 0.1649\n",
      "Epoch [16/20], Valid Accuracy: 95.4900, Valid Loss: 0.1649\n",
      "Epoch [17/20], Loss: 0.1647\n",
      "Epoch [17/20], Valid Accuracy: 95.7800, Valid Loss: 0.1521\n",
      "Epoch [18/20], Loss: 0.1642\n",
      "Epoch [18/20], Valid Accuracy: 95.0400, Valid Loss: 0.1726\n",
      "Epoch [19/20], Loss: 0.1655\n",
      "Epoch [19/20], Valid Accuracy: 96.0200, Valid Loss: 0.1453\n",
      "Epoch [20/20], Loss: 0.1654\n",
      "Epoch [20/20], Valid Accuracy: 95.6300, Valid Loss: 0.1556\n",
      "Epoch [1/20], Loss: 0.5365\n",
      "Epoch [1/20], Valid Accuracy: 87.5300, Valid Loss: 0.4797\n",
      "Epoch [2/20], Loss: 0.4994\n",
      "Epoch [2/20], Valid Accuracy: 88.8800, Valid Loss: 0.4812\n",
      "Epoch [3/20], Loss: 0.4867\n",
      "Epoch [3/20], Valid Accuracy: 87.8900, Valid Loss: 0.4731\n",
      "Epoch [4/20], Loss: 0.4805\n",
      "Epoch [4/20], Valid Accuracy: 89.2600, Valid Loss: 0.4508\n",
      "Epoch [5/20], Loss: 0.4762\n",
      "Epoch [5/20], Valid Accuracy: 90.2000, Valid Loss: 0.4446\n",
      "Epoch [6/20], Loss: 0.4719\n",
      "Epoch [6/20], Valid Accuracy: 88.5300, Valid Loss: 0.4623\n",
      "Epoch [7/20], Loss: 0.4704\n",
      "Epoch [7/20], Valid Accuracy: 89.8300, Valid Loss: 0.4576\n",
      "Epoch [8/20], Loss: 0.4704\n",
      "Epoch [8/20], Valid Accuracy: 89.6900, Valid Loss: 0.4460\n",
      "Epoch [9/20], Loss: 0.4699\n",
      "Epoch [9/20], Valid Accuracy: 89.4100, Valid Loss: 0.4605\n",
      "Epoch [10/20], Loss: 0.4690\n",
      "Epoch [10/20], Valid Accuracy: 89.4600, Valid Loss: 0.4507\n",
      "Epoch [11/20], Loss: 0.4690\n",
      "Epoch [11/20], Valid Accuracy: 89.8500, Valid Loss: 0.4441\n",
      "Epoch [12/20], Loss: 0.4676\n",
      "Epoch [12/20], Valid Accuracy: 89.2700, Valid Loss: 0.4465\n",
      "Epoch [13/20], Loss: 0.4675\n",
      "Epoch [13/20], Valid Accuracy: 90.3700, Valid Loss: 0.4443\n",
      "Epoch [14/20], Loss: 0.4677\n",
      "Epoch [14/20], Valid Accuracy: 89.7000, Valid Loss: 0.4467\n",
      "Epoch [15/20], Loss: 0.4684\n",
      "Epoch [15/20], Valid Accuracy: 89.2300, Valid Loss: 0.4504\n",
      "Epoch [16/20], Loss: 0.4687\n"
     ]
    },
    {
     "name": "stdout",
     "output_type": "stream",
     "text": [
      "Epoch [16/20], Valid Accuracy: 90.3000, Valid Loss: 0.4349\n",
      "Epoch [17/20], Loss: 0.4673\n",
      "Epoch [17/20], Valid Accuracy: 90.1700, Valid Loss: 0.4439\n",
      "Epoch [18/20], Loss: 0.4673\n",
      "Epoch [18/20], Valid Accuracy: 89.1600, Valid Loss: 0.4536\n",
      "Epoch [19/20], Loss: 0.4676\n",
      "Epoch [19/20], Valid Accuracy: 90.2600, Valid Loss: 0.4434\n",
      "Epoch [20/20], Loss: 0.4669\n",
      "Epoch [20/20], Valid Accuracy: 90.2600, Valid Loss: 0.4457\n",
      "Epoch [1/20], Loss: 0.8734\n",
      "Epoch [1/20], Valid Accuracy: 82.8400, Valid Loss: 0.8193\n",
      "Epoch [2/20], Loss: 0.8438\n",
      "Epoch [2/20], Valid Accuracy: 82.2700, Valid Loss: 0.8268\n",
      "Epoch [3/20], Loss: 0.8349\n",
      "Epoch [3/20], Valid Accuracy: 85.0300, Valid Loss: 0.7943\n",
      "Epoch [4/20], Loss: 0.8318\n",
      "Epoch [4/20], Valid Accuracy: 81.2600, Valid Loss: 0.8097\n",
      "Epoch [5/20], Loss: 0.8243\n",
      "Epoch [5/20], Valid Accuracy: 83.3400, Valid Loss: 0.8314\n",
      "Epoch [6/20], Loss: 0.8234\n",
      "Epoch [6/20], Valid Accuracy: 85.5100, Valid Loss: 0.7892\n",
      "Epoch [7/20], Loss: 0.8203\n",
      "Epoch [7/20], Valid Accuracy: 84.9100, Valid Loss: 0.7784\n",
      "Epoch [8/20], Loss: 0.8186\n",
      "Epoch [8/20], Valid Accuracy: 84.9300, Valid Loss: 0.8127\n",
      "Epoch [9/20], Loss: 0.8194\n",
      "Epoch [9/20], Valid Accuracy: 85.3500, Valid Loss: 0.7801\n",
      "Epoch [10/20], Loss: 0.8179\n",
      "Epoch [10/20], Valid Accuracy: 83.4100, Valid Loss: 0.7987\n",
      "Epoch [11/20], Loss: 0.8174\n",
      "Epoch [11/20], Valid Accuracy: 84.1700, Valid Loss: 0.7874\n",
      "Epoch [12/20], Loss: 0.8174\n",
      "Epoch [12/20], Valid Accuracy: 86.0000, Valid Loss: 0.7914\n",
      "Epoch [13/20], Loss: 0.8172\n",
      "Epoch [13/20], Valid Accuracy: 85.7700, Valid Loss: 0.7871\n",
      "Epoch [14/20], Loss: 0.8171\n",
      "Epoch [14/20], Valid Accuracy: 84.7500, Valid Loss: 0.7937\n",
      "Epoch [15/20], Loss: 0.8170\n",
      "Epoch [15/20], Valid Accuracy: 83.6700, Valid Loss: 0.7967\n",
      "Epoch [16/20], Loss: 0.8167\n",
      "Epoch [16/20], Valid Accuracy: 84.2800, Valid Loss: 0.8007\n",
      "Epoch [17/20], Loss: 0.8164\n",
      "Epoch [17/20], Valid Accuracy: 83.6700, Valid Loss: 0.7955\n",
      "Epoch [18/20], Loss: 0.8169\n",
      "Epoch [18/20], Valid Accuracy: 84.9700, Valid Loss: 0.8016\n",
      "Epoch [19/20], Loss: 0.8175\n",
      "Epoch [19/20], Valid Accuracy: 84.3700, Valid Loss: 0.7892\n",
      "Epoch [20/20], Loss: 0.8156\n",
      "Epoch [20/20], Valid Accuracy: 85.7000, Valid Loss: 0.7833\n"
     ]
    }
   ],
   "source": [
    "nb_epochs = 20\n",
    "learning_rate = 0.001\n",
    "wd_vals = []\n",
    "for wd in [0,0.0001,0.001,0.01,0.1,0.3]:\n",
    "    net = get_model(M=300)\n",
    "    optimizer = optim.Adam(net.parameters(), lr=learning_rate, weight_decay = wd)\n",
    "    model_accuracy_loss(net, test_loader)\n",
    "    val_acc, val_loss, train_loss = train_model(train_loader, test_loader, \n",
    "                                                num_epochs=nb_epochs, \n",
    "                                                model=net, optimizer=optimizer)\n",
    "    wd_vals.append([wd, train_loss, val_loss, val_acc])"
   ]
  },
  {
   "cell_type": "code",
   "execution_count": 22,
   "metadata": {
    "ExecuteTime": {
     "end_time": "2022-02-23T05:06:53.160700Z",
     "start_time": "2022-02-23T05:06:53.078908Z"
    }
   },
   "outputs": [
    {
     "data": {
      "text/html": [
       "<div>\n",
       "<style scoped>\n",
       "    .dataframe tbody tr th:only-of-type {\n",
       "        vertical-align: middle;\n",
       "    }\n",
       "\n",
       "    .dataframe tbody tr th {\n",
       "        vertical-align: top;\n",
       "    }\n",
       "\n",
       "    .dataframe thead th {\n",
       "        text-align: right;\n",
       "    }\n",
       "</style>\n",
       "<table border=\"1\" class=\"dataframe\">\n",
       "  <thead>\n",
       "    <tr style=\"text-align: right;\">\n",
       "      <th></th>\n",
       "      <th>weight_decay</th>\n",
       "      <th>train_loss</th>\n",
       "      <th>val_loss</th>\n",
       "      <th>val_acc</th>\n",
       "    </tr>\n",
       "  </thead>\n",
       "  <tbody>\n",
       "    <tr>\n",
       "      <th>0</th>\n",
       "      <td>0.0000</td>\n",
       "      <td>0.013918</td>\n",
       "      <td>0.157546</td>\n",
       "      <td>97.93</td>\n",
       "    </tr>\n",
       "    <tr>\n",
       "      <th>1</th>\n",
       "      <td>0.0001</td>\n",
       "      <td>0.023511</td>\n",
       "      <td>0.087758</td>\n",
       "      <td>97.93</td>\n",
       "    </tr>\n",
       "    <tr>\n",
       "      <th>2</th>\n",
       "      <td>0.0010</td>\n",
       "      <td>0.063317</td>\n",
       "      <td>0.088269</td>\n",
       "      <td>97.22</td>\n",
       "    </tr>\n",
       "    <tr>\n",
       "      <th>3</th>\n",
       "      <td>0.0100</td>\n",
       "      <td>0.165440</td>\n",
       "      <td>0.155607</td>\n",
       "      <td>95.63</td>\n",
       "    </tr>\n",
       "    <tr>\n",
       "      <th>4</th>\n",
       "      <td>0.1000</td>\n",
       "      <td>0.466870</td>\n",
       "      <td>0.445706</td>\n",
       "      <td>90.26</td>\n",
       "    </tr>\n",
       "    <tr>\n",
       "      <th>5</th>\n",
       "      <td>0.3000</td>\n",
       "      <td>0.815593</td>\n",
       "      <td>0.783258</td>\n",
       "      <td>85.70</td>\n",
       "    </tr>\n",
       "  </tbody>\n",
       "</table>\n",
       "</div>"
      ],
      "text/plain": [
       "   weight_decay  train_loss  val_loss  val_acc\n",
       "0        0.0000    0.013918  0.157546    97.93\n",
       "1        0.0001    0.023511  0.087758    97.93\n",
       "2        0.0010    0.063317  0.088269    97.22\n",
       "3        0.0100    0.165440  0.155607    95.63\n",
       "4        0.1000    0.466870  0.445706    90.26\n",
       "5        0.3000    0.815593  0.783258    85.70"
      ]
     },
     "execution_count": 22,
     "metadata": {},
     "output_type": "execute_result"
    }
   ],
   "source": [
    "df_wd = pd.DataFrame(wd_vals,columns=['weight_decay','train_loss','val_loss','val_acc'])\n",
    "df_wd"
   ]
  },
  {
   "cell_type": "markdown",
   "metadata": {},
   "source": [
    "Best value of weight decay parameter is around 0.0001. We observe a train loss of 0.023, validation loss of 0.088 and validation accuracy of 97.93%"
   ]
  },
  {
   "cell_type": "markdown",
   "metadata": {},
   "source": [
    "# 4. Experiment with dropout"
   ]
  },
  {
   "cell_type": "code",
   "execution_count": 23,
   "metadata": {
    "ExecuteTime": {
     "end_time": "2022-02-23T05:36:00.530139Z",
     "start_time": "2022-02-23T05:07:07.857109Z"
    },
    "collapsed": true
   },
   "outputs": [
    {
     "name": "stdout",
     "output_type": "stream",
     "text": [
      "Epoch [1/20], Loss: 0.2003\n",
      "Epoch [1/20], Valid Accuracy: 96.9600, Valid Loss: 0.0957\n",
      "Epoch [2/20], Loss: 0.0890\n",
      "Epoch [2/20], Valid Accuracy: 97.5500, Valid Loss: 0.0831\n",
      "Epoch [3/20], Loss: 0.0612\n",
      "Epoch [3/20], Valid Accuracy: 97.7400, Valid Loss: 0.0799\n",
      "Epoch [4/20], Loss: 0.0478\n",
      "Epoch [4/20], Valid Accuracy: 97.5700, Valid Loss: 0.0841\n",
      "Epoch [5/20], Loss: 0.0384\n",
      "Epoch [5/20], Valid Accuracy: 97.4200, Valid Loss: 0.0970\n",
      "Epoch [6/20], Loss: 0.0341\n",
      "Epoch [6/20], Valid Accuracy: 97.9000, Valid Loss: 0.0879\n",
      "Epoch [7/20], Loss: 0.0268\n",
      "Epoch [7/20], Valid Accuracy: 97.5500, Valid Loss: 0.1005\n",
      "Epoch [8/20], Loss: 0.0268\n",
      "Epoch [8/20], Valid Accuracy: 98.0500, Valid Loss: 0.0884\n",
      "Epoch [9/20], Loss: 0.0211\n",
      "Epoch [9/20], Valid Accuracy: 97.9300, Valid Loss: 0.0964\n",
      "Epoch [10/20], Loss: 0.0210\n",
      "Epoch [10/20], Valid Accuracy: 97.6500, Valid Loss: 0.1096\n",
      "Epoch [11/20], Loss: 0.0204\n",
      "Epoch [11/20], Valid Accuracy: 98.0300, Valid Loss: 0.0953\n",
      "Epoch [12/20], Loss: 0.0178\n",
      "Epoch [12/20], Valid Accuracy: 97.6600, Valid Loss: 0.1139\n",
      "Epoch [13/20], Loss: 0.0164\n",
      "Epoch [13/20], Valid Accuracy: 97.9300, Valid Loss: 0.1101\n",
      "Epoch [14/20], Loss: 0.0158\n",
      "Epoch [14/20], Valid Accuracy: 97.4800, Valid Loss: 0.1423\n",
      "Epoch [15/20], Loss: 0.0156\n",
      "Epoch [15/20], Valid Accuracy: 98.0400, Valid Loss: 0.1348\n",
      "Epoch [16/20], Loss: 0.0157\n",
      "Epoch [16/20], Valid Accuracy: 98.1700, Valid Loss: 0.1106\n",
      "Epoch [17/20], Loss: 0.0149\n",
      "Epoch [17/20], Valid Accuracy: 98.2000, Valid Loss: 0.1177\n",
      "Epoch [18/20], Loss: 0.0131\n",
      "Epoch [18/20], Valid Accuracy: 97.8600, Valid Loss: 0.1397\n",
      "Epoch [19/20], Loss: 0.0130\n",
      "Epoch [19/20], Valid Accuracy: 98.1300, Valid Loss: 0.1281\n",
      "Epoch [20/20], Loss: 0.0147\n",
      "Epoch [20/20], Valid Accuracy: 97.9600, Valid Loss: 0.1438\n",
      "Epoch [1/20], Loss: 0.2118\n",
      "Epoch [1/20], Valid Accuracy: 96.4000, Valid Loss: 0.1192\n",
      "Epoch [2/20], Loss: 0.0890\n",
      "Epoch [2/20], Valid Accuracy: 97.6900, Valid Loss: 0.0785\n",
      "Epoch [3/20], Loss: 0.0615\n",
      "Epoch [3/20], Valid Accuracy: 97.1700, Valid Loss: 0.0886\n",
      "Epoch [4/20], Loss: 0.0475\n",
      "Epoch [4/20], Valid Accuracy: 97.5500, Valid Loss: 0.0821\n",
      "Epoch [5/20], Loss: 0.0378\n",
      "Epoch [5/20], Valid Accuracy: 97.6000, Valid Loss: 0.0879\n",
      "Epoch [6/20], Loss: 0.0336\n",
      "Epoch [6/20], Valid Accuracy: 97.3600, Valid Loss: 0.1070\n",
      "Epoch [7/20], Loss: 0.0279\n",
      "Epoch [7/20], Valid Accuracy: 97.7600, Valid Loss: 0.0950\n",
      "Epoch [8/20], Loss: 0.0252\n",
      "Epoch [8/20], Valid Accuracy: 97.8500, Valid Loss: 0.0889\n",
      "Epoch [9/20], Loss: 0.0234\n",
      "Epoch [9/20], Valid Accuracy: 97.7300, Valid Loss: 0.1009\n",
      "Epoch [10/20], Loss: 0.0194\n",
      "Epoch [10/20], Valid Accuracy: 97.7300, Valid Loss: 0.1155\n",
      "Epoch [11/20], Loss: 0.0195\n",
      "Epoch [11/20], Valid Accuracy: 97.9500, Valid Loss: 0.1011\n",
      "Epoch [12/20], Loss: 0.0179\n",
      "Epoch [12/20], Valid Accuracy: 97.8700, Valid Loss: 0.1089\n",
      "Epoch [13/20], Loss: 0.0164\n",
      "Epoch [13/20], Valid Accuracy: 98.0800, Valid Loss: 0.1088\n",
      "Epoch [14/20], Loss: 0.0160\n",
      "Epoch [14/20], Valid Accuracy: 97.9100, Valid Loss: 0.1273\n",
      "Epoch [15/20], Loss: 0.0149\n",
      "Epoch [15/20], Valid Accuracy: 98.1200, Valid Loss: 0.1176\n",
      "Epoch [16/20], Loss: 0.0124\n",
      "Epoch [16/20], Valid Accuracy: 97.8900, Valid Loss: 0.1254\n",
      "Epoch [17/20], Loss: 0.0148\n",
      "Epoch [17/20], Valid Accuracy: 97.9700, Valid Loss: 0.1379\n",
      "Epoch [18/20], Loss: 0.0126\n",
      "Epoch [18/20], Valid Accuracy: 98.0000, Valid Loss: 0.1384\n",
      "Epoch [19/20], Loss: 0.0166\n",
      "Epoch [19/20], Valid Accuracy: 97.8800, Valid Loss: 0.1561\n",
      "Epoch [20/20], Loss: 0.0114\n",
      "Epoch [20/20], Valid Accuracy: 98.0000, Valid Loss: 0.1325\n",
      "Epoch [1/20], Loss: 0.2263\n",
      "Epoch [1/20], Valid Accuracy: 96.6700, Valid Loss: 0.1088\n",
      "Epoch [2/20], Loss: 0.0884\n",
      "Epoch [2/20], Valid Accuracy: 97.2200, Valid Loss: 0.0902\n",
      "Epoch [3/20], Loss: 0.0637\n",
      "Epoch [3/20], Valid Accuracy: 97.1400, Valid Loss: 0.0920\n",
      "Epoch [4/20], Loss: 0.0491\n",
      "Epoch [4/20], Valid Accuracy: 97.8000, Valid Loss: 0.0747\n",
      "Epoch [5/20], Loss: 0.0399\n",
      "Epoch [5/20], Valid Accuracy: 97.7900, Valid Loss: 0.0822\n",
      "Epoch [6/20], Loss: 0.0343\n",
      "Epoch [6/20], Valid Accuracy: 97.8600, Valid Loss: 0.0841\n",
      "Epoch [7/20], Loss: 0.0276\n",
      "Epoch [7/20], Valid Accuracy: 98.0800, Valid Loss: 0.0817\n",
      "Epoch [8/20], Loss: 0.0243\n",
      "Epoch [8/20], Valid Accuracy: 97.9500, Valid Loss: 0.0870\n",
      "Epoch [9/20], Loss: 0.0221\n",
      "Epoch [9/20], Valid Accuracy: 97.7100, Valid Loss: 0.1036\n",
      "Epoch [10/20], Loss: 0.0220\n",
      "Epoch [10/20], Valid Accuracy: 97.9100, Valid Loss: 0.0991\n",
      "Epoch [11/20], Loss: 0.0179\n",
      "Epoch [11/20], Valid Accuracy: 97.7500, Valid Loss: 0.1140\n",
      "Epoch [12/20], Loss: 0.0183\n",
      "Epoch [12/20], Valid Accuracy: 97.9500, Valid Loss: 0.0984\n",
      "Epoch [13/20], Loss: 0.0169\n",
      "Epoch [13/20], Valid Accuracy: 97.8300, Valid Loss: 0.1168\n",
      "Epoch [14/20], Loss: 0.0177\n",
      "Epoch [14/20], Valid Accuracy: 98.0500, Valid Loss: 0.1070\n",
      "Epoch [15/20], Loss: 0.0159\n",
      "Epoch [15/20], Valid Accuracy: 97.6000, Valid Loss: 0.1362\n",
      "Epoch [16/20], Loss: 0.0128\n",
      "Epoch [16/20], Valid Accuracy: 97.7400, Valid Loss: 0.1336\n",
      "Epoch [17/20], Loss: 0.0182\n",
      "Epoch [17/20], Valid Accuracy: 97.9200, Valid Loss: 0.1356\n",
      "Epoch [18/20], Loss: 0.0137\n",
      "Epoch [18/20], Valid Accuracy: 98.1400, Valid Loss: 0.1333\n",
      "Epoch [19/20], Loss: 0.0132\n",
      "Epoch [19/20], Valid Accuracy: 97.8900, Valid Loss: 0.1430\n",
      "Epoch [20/20], Loss: 0.0147\n",
      "Epoch [20/20], Valid Accuracy: 98.1000, Valid Loss: 0.1127\n",
      "Epoch [1/20], Loss: 0.2432\n",
      "Epoch [1/20], Valid Accuracy: 96.5400, Valid Loss: 0.1095\n",
      "Epoch [2/20], Loss: 0.0948\n",
      "Epoch [2/20], Valid Accuracy: 97.1800, Valid Loss: 0.0894\n",
      "Epoch [3/20], Loss: 0.0664\n",
      "Epoch [3/20], Valid Accuracy: 97.4100, Valid Loss: 0.0807\n",
      "Epoch [4/20], Loss: 0.0502\n",
      "Epoch [4/20], Valid Accuracy: 97.9300, Valid Loss: 0.0772\n",
      "Epoch [5/20], Loss: 0.0400\n",
      "Epoch [5/20], Valid Accuracy: 97.7800, Valid Loss: 0.0779\n",
      "Epoch [6/20], Loss: 0.0351\n",
      "Epoch [6/20], Valid Accuracy: 97.9800, Valid Loss: 0.0754\n",
      "Epoch [7/20], Loss: 0.0274\n",
      "Epoch [7/20], Valid Accuracy: 97.4300, Valid Loss: 0.0946\n",
      "Epoch [8/20], Loss: 0.0247\n",
      "Epoch [8/20], Valid Accuracy: 97.8700, Valid Loss: 0.0859\n",
      "Epoch [9/20], Loss: 0.0234\n",
      "Epoch [9/20], Valid Accuracy: 98.0600, Valid Loss: 0.0835\n",
      "Epoch [10/20], Loss: 0.0209\n",
      "Epoch [10/20], Valid Accuracy: 98.1800, Valid Loss: 0.0896\n",
      "Epoch [11/20], Loss: 0.0197\n",
      "Epoch [11/20], Valid Accuracy: 97.6200, Valid Loss: 0.1177\n",
      "Epoch [12/20], Loss: 0.0183\n",
      "Epoch [12/20], Valid Accuracy: 97.8900, Valid Loss: 0.0973\n",
      "Epoch [13/20], Loss: 0.0167\n",
      "Epoch [13/20], Valid Accuracy: 98.0500, Valid Loss: 0.1053\n",
      "Epoch [14/20], Loss: 0.0184\n",
      "Epoch [14/20], Valid Accuracy: 98.2100, Valid Loss: 0.1076\n",
      "Epoch [15/20], Loss: 0.0151\n",
      "Epoch [15/20], Valid Accuracy: 98.2400, Valid Loss: 0.1069\n",
      "Epoch [16/20], Loss: 0.0158\n",
      "Epoch [16/20], Valid Accuracy: 97.9400, Valid Loss: 0.1286\n",
      "Epoch [17/20], Loss: 0.0141\n",
      "Epoch [17/20], Valid Accuracy: 97.9000, Valid Loss: 0.1364\n",
      "Epoch [18/20], Loss: 0.0127\n",
      "Epoch [18/20], Valid Accuracy: 97.5800, Valid Loss: 0.1615\n",
      "Epoch [19/20], Loss: 0.0162\n",
      "Epoch [19/20], Valid Accuracy: 97.9500, Valid Loss: 0.1407\n",
      "Epoch [20/20], Loss: 0.0116\n",
      "Epoch [20/20], Valid Accuracy: 98.1000, Valid Loss: 0.1467\n",
      "Epoch [1/20], Loss: 0.2663\n",
      "Epoch [1/20], Valid Accuracy: 96.1300, Valid Loss: 0.1208\n",
      "Epoch [2/20], Loss: 0.0948\n",
      "Epoch [2/20], Valid Accuracy: 97.1400, Valid Loss: 0.0941\n",
      "Epoch [3/20], Loss: 0.0683\n",
      "Epoch [3/20], Valid Accuracy: 97.5400, Valid Loss: 0.0792\n",
      "Epoch [4/20], Loss: 0.0504\n",
      "Epoch [4/20], Valid Accuracy: 97.4300, Valid Loss: 0.0861\n",
      "Epoch [5/20], Loss: 0.0424\n",
      "Epoch [5/20], Valid Accuracy: 97.5500, Valid Loss: 0.0845\n",
      "Epoch [6/20], Loss: 0.0326\n",
      "Epoch [6/20], Valid Accuracy: 97.8500, Valid Loss: 0.0855\n",
      "Epoch [7/20], Loss: 0.0294\n",
      "Epoch [7/20], Valid Accuracy: 97.7900, Valid Loss: 0.0940\n",
      "Epoch [8/20], Loss: 0.0257\n",
      "Epoch [8/20], Valid Accuracy: 98.0400, Valid Loss: 0.0822\n",
      "Epoch [9/20], Loss: 0.0208\n",
      "Epoch [9/20], Valid Accuracy: 97.6700, Valid Loss: 0.1042\n",
      "Epoch [10/20], Loss: 0.0240\n",
      "Epoch [10/20], Valid Accuracy: 98.1200, Valid Loss: 0.0957\n",
      "Epoch [11/20], Loss: 0.0167\n",
      "Epoch [11/20], Valid Accuracy: 97.8800, Valid Loss: 0.1051\n",
      "Epoch [12/20], Loss: 0.0201\n",
      "Epoch [12/20], Valid Accuracy: 97.8400, Valid Loss: 0.1148\n",
      "Epoch [13/20], Loss: 0.0165\n",
      "Epoch [13/20], Valid Accuracy: 97.8800, Valid Loss: 0.1205\n",
      "Epoch [14/20], Loss: 0.0174\n",
      "Epoch [14/20], Valid Accuracy: 97.8100, Valid Loss: 0.1232\n",
      "Epoch [15/20], Loss: 0.0139\n",
      "Epoch [15/20], Valid Accuracy: 97.7700, Valid Loss: 0.1381\n",
      "Epoch [16/20], Loss: 0.0151\n"
     ]
    },
    {
     "name": "stdout",
     "output_type": "stream",
     "text": [
      "Epoch [16/20], Valid Accuracy: 97.8300, Valid Loss: 0.1350\n",
      "Epoch [17/20], Loss: 0.0187\n",
      "Epoch [17/20], Valid Accuracy: 97.7700, Valid Loss: 0.1501\n",
      "Epoch [18/20], Loss: 0.0142\n",
      "Epoch [18/20], Valid Accuracy: 97.8700, Valid Loss: 0.1575\n",
      "Epoch [19/20], Loss: 0.0157\n",
      "Epoch [19/20], Valid Accuracy: 97.8600, Valid Loss: 0.1535\n",
      "Epoch [20/20], Loss: 0.0134\n",
      "Epoch [20/20], Valid Accuracy: 97.7900, Valid Loss: 0.1462\n",
      "Epoch [1/20], Loss: 0.2971\n",
      "Epoch [1/20], Valid Accuracy: 96.2400, Valid Loss: 0.1291\n",
      "Epoch [2/20], Loss: 0.0982\n",
      "Epoch [2/20], Valid Accuracy: 96.5600, Valid Loss: 0.1034\n",
      "Epoch [3/20], Loss: 0.0691\n",
      "Epoch [3/20], Valid Accuracy: 97.0600, Valid Loss: 0.0945\n",
      "Epoch [4/20], Loss: 0.0534\n",
      "Epoch [4/20], Valid Accuracy: 97.5100, Valid Loss: 0.0836\n",
      "Epoch [5/20], Loss: 0.0407\n",
      "Epoch [5/20], Valid Accuracy: 97.8100, Valid Loss: 0.0850\n",
      "Epoch [6/20], Loss: 0.0334\n",
      "Epoch [6/20], Valid Accuracy: 97.7600, Valid Loss: 0.0881\n",
      "Epoch [7/20], Loss: 0.0303\n",
      "Epoch [7/20], Valid Accuracy: 97.7200, Valid Loss: 0.0896\n",
      "Epoch [8/20], Loss: 0.0261\n",
      "Epoch [8/20], Valid Accuracy: 97.8100, Valid Loss: 0.0867\n",
      "Epoch [9/20], Loss: 0.0198\n",
      "Epoch [9/20], Valid Accuracy: 97.7100, Valid Loss: 0.1120\n",
      "Epoch [10/20], Loss: 0.0237\n",
      "Epoch [10/20], Valid Accuracy: 97.8900, Valid Loss: 0.1012\n",
      "Epoch [11/20], Loss: 0.0209\n",
      "Epoch [11/20], Valid Accuracy: 98.1000, Valid Loss: 0.0969\n",
      "Epoch [12/20], Loss: 0.0171\n",
      "Epoch [12/20], Valid Accuracy: 97.8800, Valid Loss: 0.1073\n",
      "Epoch [13/20], Loss: 0.0159\n",
      "Epoch [13/20], Valid Accuracy: 97.7000, Valid Loss: 0.1219\n",
      "Epoch [14/20], Loss: 0.0167\n",
      "Epoch [14/20], Valid Accuracy: 97.8400, Valid Loss: 0.1262\n",
      "Epoch [15/20], Loss: 0.0164\n",
      "Epoch [15/20], Valid Accuracy: 97.7900, Valid Loss: 0.1205\n",
      "Epoch [16/20], Loss: 0.0145\n",
      "Epoch [16/20], Valid Accuracy: 97.6300, Valid Loss: 0.1511\n",
      "Epoch [17/20], Loss: 0.0161\n",
      "Epoch [17/20], Valid Accuracy: 97.7400, Valid Loss: 0.1395\n",
      "Epoch [18/20], Loss: 0.0119\n",
      "Epoch [18/20], Valid Accuracy: 97.9900, Valid Loss: 0.1356\n",
      "Epoch [19/20], Loss: 0.0118\n",
      "Epoch [19/20], Valid Accuracy: 97.6400, Valid Loss: 0.1542\n",
      "Epoch [20/20], Loss: 0.0154\n",
      "Epoch [20/20], Valid Accuracy: 97.8300, Valid Loss: 0.1557\n",
      "Epoch [1/20], Loss: 0.3393\n",
      "Epoch [1/20], Valid Accuracy: 95.3400, Valid Loss: 0.1532\n",
      "Epoch [2/20], Loss: 0.1027\n",
      "Epoch [2/20], Valid Accuracy: 97.2700, Valid Loss: 0.0879\n",
      "Epoch [3/20], Loss: 0.0717\n",
      "Epoch [3/20], Valid Accuracy: 97.0100, Valid Loss: 0.0925\n",
      "Epoch [4/20], Loss: 0.0550\n",
      "Epoch [4/20], Valid Accuracy: 97.5700, Valid Loss: 0.0829\n",
      "Epoch [5/20], Loss: 0.0443\n",
      "Epoch [5/20], Valid Accuracy: 97.5500, Valid Loss: 0.0883\n",
      "Epoch [6/20], Loss: 0.0356\n",
      "Epoch [6/20], Valid Accuracy: 97.6000, Valid Loss: 0.0899\n",
      "Epoch [7/20], Loss: 0.0314\n",
      "Epoch [7/20], Valid Accuracy: 97.4700, Valid Loss: 0.1025\n",
      "Epoch [8/20], Loss: 0.0249\n",
      "Epoch [8/20], Valid Accuracy: 97.7100, Valid Loss: 0.1072\n",
      "Epoch [9/20], Loss: 0.0230\n",
      "Epoch [9/20], Valid Accuracy: 97.9400, Valid Loss: 0.0929\n",
      "Epoch [10/20], Loss: 0.0226\n",
      "Epoch [10/20], Valid Accuracy: 97.9500, Valid Loss: 0.0968\n",
      "Epoch [11/20], Loss: 0.0191\n",
      "Epoch [11/20], Valid Accuracy: 97.5100, Valid Loss: 0.1134\n",
      "Epoch [12/20], Loss: 0.0196\n",
      "Epoch [12/20], Valid Accuracy: 98.1000, Valid Loss: 0.1087\n",
      "Epoch [13/20], Loss: 0.0158\n",
      "Epoch [13/20], Valid Accuracy: 98.0500, Valid Loss: 0.1045\n",
      "Epoch [14/20], Loss: 0.0187\n",
      "Epoch [14/20], Valid Accuracy: 98.0200, Valid Loss: 0.1176\n",
      "Epoch [15/20], Loss: 0.0175\n",
      "Epoch [15/20], Valid Accuracy: 97.7500, Valid Loss: 0.1312\n",
      "Epoch [16/20], Loss: 0.0142\n",
      "Epoch [16/20], Valid Accuracy: 97.7100, Valid Loss: 0.1293\n",
      "Epoch [17/20], Loss: 0.0164\n",
      "Epoch [17/20], Valid Accuracy: 98.0300, Valid Loss: 0.1452\n",
      "Epoch [18/20], Loss: 0.0142\n",
      "Epoch [18/20], Valid Accuracy: 98.0200, Valid Loss: 0.1326\n",
      "Epoch [19/20], Loss: 0.0142\n",
      "Epoch [19/20], Valid Accuracy: 98.0000, Valid Loss: 0.1396\n",
      "Epoch [20/20], Loss: 0.0139\n",
      "Epoch [20/20], Valid Accuracy: 98.1800, Valid Loss: 0.1352\n",
      "Epoch [1/20], Loss: 0.4103\n",
      "Epoch [1/20], Valid Accuracy: 94.6500, Valid Loss: 0.1685\n",
      "Epoch [2/20], Loss: 0.1128\n",
      "Epoch [2/20], Valid Accuracy: 97.2000, Valid Loss: 0.0908\n",
      "Epoch [3/20], Loss: 0.0762\n",
      "Epoch [3/20], Valid Accuracy: 97.2400, Valid Loss: 0.0867\n",
      "Epoch [4/20], Loss: 0.0566\n",
      "Epoch [4/20], Valid Accuracy: 97.8700, Valid Loss: 0.0756\n",
      "Epoch [5/20], Loss: 0.0465\n",
      "Epoch [5/20], Valid Accuracy: 97.8500, Valid Loss: 0.0778\n",
      "Epoch [6/20], Loss: 0.0370\n",
      "Epoch [6/20], Valid Accuracy: 97.9600, Valid Loss: 0.0755\n",
      "Epoch [7/20], Loss: 0.0315\n",
      "Epoch [7/20], Valid Accuracy: 97.8800, Valid Loss: 0.0820\n",
      "Epoch [8/20], Loss: 0.0246\n",
      "Epoch [8/20], Valid Accuracy: 97.8700, Valid Loss: 0.0907\n",
      "Epoch [9/20], Loss: 0.0245\n",
      "Epoch [9/20], Valid Accuracy: 97.7200, Valid Loss: 0.1060\n",
      "Epoch [10/20], Loss: 0.0203\n",
      "Epoch [10/20], Valid Accuracy: 98.0300, Valid Loss: 0.0957\n",
      "Epoch [11/20], Loss: 0.0204\n",
      "Epoch [11/20], Valid Accuracy: 97.9300, Valid Loss: 0.0975\n",
      "Epoch [12/20], Loss: 0.0183\n",
      "Epoch [12/20], Valid Accuracy: 97.9000, Valid Loss: 0.0992\n",
      "Epoch [13/20], Loss: 0.0198\n",
      "Epoch [13/20], Valid Accuracy: 97.8400, Valid Loss: 0.1222\n",
      "Epoch [14/20], Loss: 0.0147\n",
      "Epoch [14/20], Valid Accuracy: 98.2000, Valid Loss: 0.1060\n",
      "Epoch [15/20], Loss: 0.0159\n",
      "Epoch [15/20], Valid Accuracy: 98.0800, Valid Loss: 0.1128\n",
      "Epoch [16/20], Loss: 0.0141\n",
      "Epoch [16/20], Valid Accuracy: 97.7700, Valid Loss: 0.1488\n",
      "Epoch [17/20], Loss: 0.0141\n",
      "Epoch [17/20], Valid Accuracy: 97.8300, Valid Loss: 0.1468\n",
      "Epoch [18/20], Loss: 0.0142\n",
      "Epoch [18/20], Valid Accuracy: 97.9500, Valid Loss: 0.1352\n",
      "Epoch [19/20], Loss: 0.0151\n",
      "Epoch [19/20], Valid Accuracy: 98.0500, Valid Loss: 0.1244\n",
      "Epoch [20/20], Loss: 0.0143\n",
      "Epoch [20/20], Valid Accuracy: 98.0300, Valid Loss: 0.1386\n",
      "Epoch [1/20], Loss: 0.5266\n",
      "Epoch [1/20], Valid Accuracy: 94.1600, Valid Loss: 0.1926\n",
      "Epoch [2/20], Loss: 0.1287\n",
      "Epoch [2/20], Valid Accuracy: 97.1900, Valid Loss: 0.0944\n",
      "Epoch [3/20], Loss: 0.0826\n",
      "Epoch [3/20], Valid Accuracy: 97.2100, Valid Loss: 0.0928\n",
      "Epoch [4/20], Loss: 0.0622\n",
      "Epoch [4/20], Valid Accuracy: 97.5000, Valid Loss: 0.0797\n",
      "Epoch [5/20], Loss: 0.0469\n",
      "Epoch [5/20], Valid Accuracy: 97.3500, Valid Loss: 0.0931\n",
      "Epoch [6/20], Loss: 0.0400\n",
      "Epoch [6/20], Valid Accuracy: 97.4400, Valid Loss: 0.0950\n",
      "Epoch [7/20], Loss: 0.0307\n",
      "Epoch [7/20], Valid Accuracy: 97.6300, Valid Loss: 0.0900\n",
      "Epoch [8/20], Loss: 0.0305\n",
      "Epoch [8/20], Valid Accuracy: 97.7600, Valid Loss: 0.0932\n",
      "Epoch [9/20], Loss: 0.0241\n",
      "Epoch [9/20], Valid Accuracy: 97.8200, Valid Loss: 0.0968\n",
      "Epoch [10/20], Loss: 0.0230\n",
      "Epoch [10/20], Valid Accuracy: 97.8100, Valid Loss: 0.1015\n",
      "Epoch [11/20], Loss: 0.0235\n",
      "Epoch [11/20], Valid Accuracy: 97.5300, Valid Loss: 0.1170\n",
      "Epoch [12/20], Loss: 0.0181\n",
      "Epoch [12/20], Valid Accuracy: 97.6600, Valid Loss: 0.1273\n",
      "Epoch [13/20], Loss: 0.0195\n",
      "Epoch [13/20], Valid Accuracy: 97.7300, Valid Loss: 0.1304\n",
      "Epoch [14/20], Loss: 0.0150\n",
      "Epoch [14/20], Valid Accuracy: 97.5900, Valid Loss: 0.1303\n",
      "Epoch [15/20], Loss: 0.0140\n",
      "Epoch [15/20], Valid Accuracy: 97.7600, Valid Loss: 0.1286\n",
      "Epoch [16/20], Loss: 0.0172\n",
      "Epoch [16/20], Valid Accuracy: 97.9900, Valid Loss: 0.1177\n",
      "Epoch [17/20], Loss: 0.0149\n",
      "Epoch [17/20], Valid Accuracy: 97.7400, Valid Loss: 0.1395\n",
      "Epoch [18/20], Loss: 0.0163\n",
      "Epoch [18/20], Valid Accuracy: 97.5900, Valid Loss: 0.1605\n",
      "Epoch [19/20], Loss: 0.0122\n",
      "Epoch [19/20], Valid Accuracy: 97.9600, Valid Loss: 0.1425\n",
      "Epoch [20/20], Loss: 0.0126\n",
      "Epoch [20/20], Valid Accuracy: 98.1500, Valid Loss: 0.1507\n",
      "Epoch [1/20], Loss: 0.8831\n",
      "Epoch [1/20], Valid Accuracy: 91.6800, Valid Loss: 0.2816\n",
      "Epoch [2/20], Loss: 0.1682\n",
      "Epoch [2/20], Valid Accuracy: 96.3700, Valid Loss: 0.1161\n",
      "Epoch [3/20], Loss: 0.0940\n",
      "Epoch [3/20], Valid Accuracy: 96.9700, Valid Loss: 0.0949\n",
      "Epoch [4/20], Loss: 0.0693\n",
      "Epoch [4/20], Valid Accuracy: 97.6200, Valid Loss: 0.0775\n",
      "Epoch [5/20], Loss: 0.0547\n",
      "Epoch [5/20], Valid Accuracy: 97.8100, Valid Loss: 0.0792\n",
      "Epoch [6/20], Loss: 0.0411\n",
      "Epoch [6/20], Valid Accuracy: 97.6200, Valid Loss: 0.0872\n",
      "Epoch [7/20], Loss: 0.0336\n",
      "Epoch [7/20], Valid Accuracy: 97.9200, Valid Loss: 0.0826\n",
      "Epoch [8/20], Loss: 0.0293\n",
      "Epoch [8/20], Valid Accuracy: 97.7600, Valid Loss: 0.0894\n",
      "Epoch [9/20], Loss: 0.0262\n",
      "Epoch [9/20], Valid Accuracy: 97.6500, Valid Loss: 0.0950\n",
      "Epoch [10/20], Loss: 0.0235\n",
      "Epoch [10/20], Valid Accuracy: 97.8100, Valid Loss: 0.0930\n",
      "Epoch [11/20], Loss: 0.0213\n",
      "Epoch [11/20], Valid Accuracy: 97.9200, Valid Loss: 0.1009\n"
     ]
    },
    {
     "name": "stdout",
     "output_type": "stream",
     "text": [
      "Epoch [12/20], Loss: 0.0187\n",
      "Epoch [12/20], Valid Accuracy: 97.7000, Valid Loss: 0.1165\n",
      "Epoch [13/20], Loss: 0.0165\n",
      "Epoch [13/20], Valid Accuracy: 97.7100, Valid Loss: 0.1207\n",
      "Epoch [14/20], Loss: 0.0191\n",
      "Epoch [14/20], Valid Accuracy: 97.8600, Valid Loss: 0.1218\n",
      "Epoch [15/20], Loss: 0.0139\n",
      "Epoch [15/20], Valid Accuracy: 97.7600, Valid Loss: 0.1365\n",
      "Epoch [16/20], Loss: 0.0141\n",
      "Epoch [16/20], Valid Accuracy: 97.8500, Valid Loss: 0.1364\n",
      "Epoch [17/20], Loss: 0.0150\n",
      "Epoch [17/20], Valid Accuracy: 97.9400, Valid Loss: 0.1334\n",
      "Epoch [18/20], Loss: 0.0133\n",
      "Epoch [18/20], Valid Accuracy: 97.7600, Valid Loss: 0.1310\n",
      "Epoch [19/20], Loss: 0.0130\n",
      "Epoch [19/20], Valid Accuracy: 97.7200, Valid Loss: 0.1654\n",
      "Epoch [20/20], Loss: 0.0145\n",
      "Epoch [20/20], Valid Accuracy: 97.8100, Valid Loss: 0.1311\n"
     ]
    }
   ],
   "source": [
    "nb_epochs = 20\n",
    "learning_rate = 0.001\n",
    "p_vals = []\n",
    "for p in [0,0.1,0.2,0.3,0.4,0.5,0.6,0.7,0.8,0.9]:\n",
    "    net = get_model_v2(M = 300, p=p)\n",
    "    optimizer = optim.Adam(net.parameters(), lr=learning_rate)\n",
    "    model_accuracy_loss(net, test_loader)\n",
    "    val_acc, val_loss, train_loss = train_model(train_loader, test_loader, \n",
    "                                                num_epochs=nb_epochs, \n",
    "                                                model=net, optimizer=optimizer)\n",
    "    p_vals.append([p, train_loss, val_loss, val_acc])"
   ]
  },
  {
   "cell_type": "code",
   "execution_count": 25,
   "metadata": {
    "ExecuteTime": {
     "end_time": "2022-02-23T05:39:07.879900Z",
     "start_time": "2022-02-23T05:39:07.848433Z"
    },
    "scrolled": false
   },
   "outputs": [
    {
     "data": {
      "text/html": [
       "<div>\n",
       "<style scoped>\n",
       "    .dataframe tbody tr th:only-of-type {\n",
       "        vertical-align: middle;\n",
       "    }\n",
       "\n",
       "    .dataframe tbody tr th {\n",
       "        vertical-align: top;\n",
       "    }\n",
       "\n",
       "    .dataframe thead th {\n",
       "        text-align: right;\n",
       "    }\n",
       "</style>\n",
       "<table border=\"1\" class=\"dataframe\">\n",
       "  <thead>\n",
       "    <tr style=\"text-align: right;\">\n",
       "      <th></th>\n",
       "      <th>dropout_rate</th>\n",
       "      <th>train_loss</th>\n",
       "      <th>val_loss</th>\n",
       "      <th>val_acc</th>\n",
       "    </tr>\n",
       "  </thead>\n",
       "  <tbody>\n",
       "    <tr>\n",
       "      <th>0</th>\n",
       "      <td>0.0</td>\n",
       "      <td>0.014709</td>\n",
       "      <td>0.143801</td>\n",
       "      <td>97.96</td>\n",
       "    </tr>\n",
       "    <tr>\n",
       "      <th>1</th>\n",
       "      <td>0.1</td>\n",
       "      <td>0.011449</td>\n",
       "      <td>0.132509</td>\n",
       "      <td>98.00</td>\n",
       "    </tr>\n",
       "    <tr>\n",
       "      <th>2</th>\n",
       "      <td>0.2</td>\n",
       "      <td>0.014694</td>\n",
       "      <td>0.112719</td>\n",
       "      <td>98.10</td>\n",
       "    </tr>\n",
       "    <tr>\n",
       "      <th>3</th>\n",
       "      <td>0.3</td>\n",
       "      <td>0.011582</td>\n",
       "      <td>0.146683</td>\n",
       "      <td>98.10</td>\n",
       "    </tr>\n",
       "    <tr>\n",
       "      <th>4</th>\n",
       "      <td>0.4</td>\n",
       "      <td>0.013434</td>\n",
       "      <td>0.146249</td>\n",
       "      <td>97.79</td>\n",
       "    </tr>\n",
       "    <tr>\n",
       "      <th>5</th>\n",
       "      <td>0.5</td>\n",
       "      <td>0.015365</td>\n",
       "      <td>0.155703</td>\n",
       "      <td>97.83</td>\n",
       "    </tr>\n",
       "    <tr>\n",
       "      <th>6</th>\n",
       "      <td>0.6</td>\n",
       "      <td>0.013899</td>\n",
       "      <td>0.135189</td>\n",
       "      <td>98.18</td>\n",
       "    </tr>\n",
       "    <tr>\n",
       "      <th>7</th>\n",
       "      <td>0.7</td>\n",
       "      <td>0.014302</td>\n",
       "      <td>0.138620</td>\n",
       "      <td>98.03</td>\n",
       "    </tr>\n",
       "    <tr>\n",
       "      <th>8</th>\n",
       "      <td>0.8</td>\n",
       "      <td>0.012599</td>\n",
       "      <td>0.150708</td>\n",
       "      <td>98.15</td>\n",
       "    </tr>\n",
       "    <tr>\n",
       "      <th>9</th>\n",
       "      <td>0.9</td>\n",
       "      <td>0.014500</td>\n",
       "      <td>0.131142</td>\n",
       "      <td>97.81</td>\n",
       "    </tr>\n",
       "  </tbody>\n",
       "</table>\n",
       "</div>"
      ],
      "text/plain": [
       "   dropout_rate  train_loss  val_loss  val_acc\n",
       "0           0.0    0.014709  0.143801    97.96\n",
       "1           0.1    0.011449  0.132509    98.00\n",
       "2           0.2    0.014694  0.112719    98.10\n",
       "3           0.3    0.011582  0.146683    98.10\n",
       "4           0.4    0.013434  0.146249    97.79\n",
       "5           0.5    0.015365  0.155703    97.83\n",
       "6           0.6    0.013899  0.135189    98.18\n",
       "7           0.7    0.014302  0.138620    98.03\n",
       "8           0.8    0.012599  0.150708    98.15\n",
       "9           0.9    0.014500  0.131142    97.81"
      ]
     },
     "execution_count": 25,
     "metadata": {},
     "output_type": "execute_result"
    }
   ],
   "source": [
    "df_p = pd.DataFrame(p_vals,columns=['dropout_rate','train_loss','val_loss','val_acc'])\n",
    "df_p"
   ]
  },
  {
   "cell_type": "markdown",
   "metadata": {},
   "source": [
    "Best dropout rate is observed at 0.6 with validation accuracy of 98.18%, train loss of 0.014 and validation loss of 0.013. </br>\n",
    "Dropout helps model learn sparse representation due to the random drop in neurons during training(Sparse activation). We randomly drop weights randomly during training which makes Also since it is a regularization technique it works by decreasing variance at the cost of increasing bias.   </br>\n",
    "Compared to L2 weight decay dropout performs better as we have higher validation accuracy for dropout in comparison to L2 regularization (97.9%) "
   ]
  },
  {
   "cell_type": "code",
   "execution_count": 26,
   "metadata": {
    "ExecuteTime": {
     "end_time": "2022-02-24T02:09:11.270328Z",
     "start_time": "2022-02-24T02:09:11.243844Z"
    }
   },
   "outputs": [],
   "source": [
    "def train_model(train_loader, test_loader, num_epochs, model, optimizer):\n",
    "    model.train()\n",
    "    for epoch in range(num_epochs):\n",
    "        sum_loss = 0.0\n",
    "        total = 0\n",
    "        for i, (images, labels) in enumerate(train_loader):  \n",
    "            batch = images.shape[0] # size of the batch\n",
    "            # Convert torch tensor to Variable, change shape of the input\n",
    "            images = images.view(-1, 28*28) #.cuda()\n",
    "        \n",
    "            # Forward + Backward + Optimize\n",
    "            optimizer.zero_grad()  # zero the gradient buffer\n",
    "            outputs = model(images)\n",
    "            loss = F.cross_entropy(outputs, labels)\n",
    "            loss.backward()\n",
    "            optimizer.step()\n",
    "        \n",
    "            total += batch\n",
    "            sum_loss += batch * loss.item()\n",
    "                \n",
    "        train_loss = sum_loss/total\n",
    "        print('Epoch [%d/%d], Loss: %.4f' %(epoch+1, num_epochs, train_loss))\n",
    "        val_acc, val_loss = model_accuracy_loss(model, test_loader)\n",
    "        print('Epoch [%d/%d], Valid Accuracy: %.4f, Valid Loss: %.4f' %(epoch+1, num_epochs, val_acc, val_loss))\n",
    "        scheduler.step()\n",
    "    return val_acc, val_loss, train_loss"
   ]
  },
  {
   "cell_type": "code",
   "execution_count": 31,
   "metadata": {
    "ExecuteTime": {
     "end_time": "2022-02-24T02:13:43.216767Z",
     "start_time": "2022-02-24T02:10:55.398174Z"
    },
    "collapsed": true
   },
   "outputs": [
    {
     "name": "stdout",
     "output_type": "stream",
     "text": [
      "Epoch [1/20], Loss: 0.3415\n",
      "Epoch [1/20], Valid Accuracy: 95.7200, Valid Loss: 0.1352\n",
      "Epoch [2/20], Loss: 0.1031\n",
      "Epoch [2/20], Valid Accuracy: 97.2300, Valid Loss: 0.0917\n",
      "Epoch [3/20], Loss: 0.0726\n",
      "Epoch [3/20], Valid Accuracy: 97.3200, Valid Loss: 0.0883\n",
      "Epoch [4/20], Loss: 0.0538\n",
      "Epoch [4/20], Valid Accuracy: 97.4600, Valid Loss: 0.0903\n",
      "Epoch [5/20], Loss: 0.0420\n",
      "Epoch [5/20], Valid Accuracy: 97.7000, Valid Loss: 0.0773\n",
      "Epoch [6/20], Loss: 0.0345\n",
      "Epoch [6/20], Valid Accuracy: 97.8900, Valid Loss: 0.0766\n",
      "Epoch [7/20], Loss: 0.0301\n",
      "Epoch [7/20], Valid Accuracy: 97.8900, Valid Loss: 0.0903\n",
      "Epoch [8/20], Loss: 0.0243\n",
      "Epoch [8/20], Valid Accuracy: 97.7100, Valid Loss: 0.0927\n",
      "Epoch [9/20], Loss: 0.0233\n",
      "Epoch [9/20], Valid Accuracy: 97.7300, Valid Loss: 0.1007\n",
      "Epoch [10/20], Loss: 0.0225\n",
      "Epoch [10/20], Valid Accuracy: 97.9400, Valid Loss: 0.0985\n",
      "Epoch [11/20], Loss: 0.0062\n",
      "Epoch [11/20], Valid Accuracy: 98.4100, Valid Loss: 0.0768\n",
      "Epoch [12/20], Loss: 0.0021\n",
      "Epoch [12/20], Valid Accuracy: 98.3900, Valid Loss: 0.0766\n",
      "Epoch [13/20], Loss: 0.0012\n",
      "Epoch [13/20], Valid Accuracy: 98.4300, Valid Loss: 0.0784\n",
      "Epoch [14/20], Loss: 0.0008\n",
      "Epoch [14/20], Valid Accuracy: 98.4300, Valid Loss: 0.0802\n",
      "Epoch [15/20], Loss: 0.0005\n",
      "Epoch [15/20], Valid Accuracy: 98.3500, Valid Loss: 0.0823\n",
      "Epoch [16/20], Loss: 0.0004\n",
      "Epoch [16/20], Valid Accuracy: 98.4100, Valid Loss: 0.0839\n",
      "Epoch [17/20], Loss: 0.0003\n",
      "Epoch [17/20], Valid Accuracy: 98.4400, Valid Loss: 0.0852\n",
      "Epoch [18/20], Loss: 0.0002\n",
      "Epoch [18/20], Valid Accuracy: 98.4000, Valid Loss: 0.0852\n",
      "Epoch [19/20], Loss: 0.0002\n",
      "Epoch [19/20], Valid Accuracy: 98.4800, Valid Loss: 0.0872\n",
      "Epoch [20/20], Loss: 0.0001\n",
      "Epoch [20/20], Valid Accuracy: 98.4000, Valid Loss: 0.0878\n"
     ]
    }
   ],
   "source": [
    "nb_epochs = 20\n",
    "learning_rate = 0.001\n",
    "p = 0.6\n",
    "\n",
    "net = get_model_v2(M = 300, p=p)\n",
    "optimizer = optim.Adam(net.parameters(), lr=learning_rate)\n",
    "scheduler = StepLR(optimizer, step_size=10, gamma=0.1)\n",
    "model_accuracy_loss(net, test_loader)\n",
    "val_acc, val_loss, train_loss = train_model(train_loader, test_loader, \n",
    "                                            num_epochs=nb_epochs, \n",
    "                                            model=net, optimizer=optimizer)"
   ]
  },
  {
   "cell_type": "code",
   "execution_count": 32,
   "metadata": {
    "ExecuteTime": {
     "end_time": "2022-02-24T02:27:56.314676Z",
     "start_time": "2022-02-24T02:27:56.301052Z"
    }
   },
   "outputs": [
    {
     "data": {
      "text/plain": [
       "(98.4, 0.08779270153171959, 0.0001131848096149767)"
      ]
     },
     "execution_count": 32,
     "metadata": {},
     "output_type": "execute_result"
    }
   ],
   "source": [
    "val_acc, val_loss, train_loss"
   ]
  },
  {
   "cell_type": "markdown",
   "metadata": {},
   "source": [
    "Using a stepLR scheduler improves the model performance as the validation accuracy improves by from 98.18% to 98.4%. "
   ]
  },
  {
   "cell_type": "code",
   "execution_count": null,
   "metadata": {},
   "outputs": [],
   "source": []
  }
 ],
 "metadata": {
  "kernelspec": {
   "display_name": "Python 3 (ipykernel)",
   "language": "python",
   "name": "python3"
  },
  "language_info": {
   "codemirror_mode": {
    "name": "ipython",
    "version": 3
   },
   "file_extension": ".py",
   "mimetype": "text/x-python",
   "name": "python",
   "nbconvert_exporter": "python",
   "pygments_lexer": "ipython3",
   "version": "3.9.7"
  },
  "toc": {
   "nav_menu": {},
   "number_sections": true,
   "sideBar": true,
   "skip_h1_title": false,
   "toc_cell": false,
   "toc_position": {},
   "toc_section_display": "block",
   "toc_window_display": false
  }
 },
 "nbformat": 4,
 "nbformat_minor": 2
}
